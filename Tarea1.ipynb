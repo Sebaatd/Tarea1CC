{
 "cells": [
  {
   "cell_type": "markdown",
   "metadata": {},
   "source": [
    "<img src=\"escudo_utfsm.gif\" style=\"float:right;height:100px\">\n",
    "<img src=\"IsotipoDIisocolor.png\" style=\"float:left;height:100px\">\n",
    "<center>\n",
    "    <h1> ILI285 - Computación Científica I / INF285 - Computación Científica</h1>\n",
    "    <h1> Tarea 1: Remember your roots </h1>\n",
    "    <h3> [S]cientific [C]omputing [T]eam 2019</h3>\n",
    "</center>\n",
    "<p>\n",
    "<center>Marzo 2019 - v1.25 </center>\n",
    "</p>\n",
    "\n",
    "---"
   ]
  },
  {
   "cell_type": "markdown",
   "metadata": {},
   "source": [
    "## Contexto\n",
    "\n",
    "La presente tarea tiene como objetivo el uso de algoritmos de búsquedas de ceros en 1D, como adaptarlos a un problema particular y que implicancias tiene el uso de cada uno, tanto desde el punto de vista de la aproximación de la solución como de la computación necesaria. Al final se presenta la interpretación gráfica de las soluciones obtenidas."
   ]
  },
  {
   "cell_type": "markdown",
   "metadata": {},
   "source": [
    "_Nota: En esta tarea no se puede utilizar ```sympy``` en los algoritmos numéricos, pero sí se puede utilizar para desarrollos intermedios, por ejemplo en la sección \"1.- Construcción\"._"
   ]
  },
  {
   "cell_type": "code",
   "execution_count": 1,
   "metadata": {},
   "outputs": [],
   "source": [
    "import numpy as np\n",
    "import matplotlib.pyplot as plt\n",
    "%matplotlib inline\n",
    "from ipywidgets import interact\n",
    "import ipywidgets as widgets\n",
    "import sympy as sym"
   ]
  },
  {
   "cell_type": "markdown",
   "metadata": {},
   "source": [
    "-------"
   ]
  },
  {
   "cell_type": "markdown",
   "metadata": {},
   "source": [
    "## Problema\n",
    "\n",
    "El universo de Marvel fue atacado duramente por Thanos en _Avenger Infinity War_. \n",
    "Sin embargo, los Avengers en conjunto con la Capitana Marvel tienen un plan para salvar al universo.\n",
    "Lamentablemente, se han encontrado con la siguiente ecuación diferencial ordinaria que no pueden resolver:\n",
    "\n",
    "\\begin{align*}\n",
    "\\frac{dy}{dx}(x)&=y(x)\\cos{(x+y(x))},\\\\\n",
    "y(0)&=1,\n",
    "\\end{align*}\n",
    "\n",
    "donde $x \\in [0,100]$ y además sabemos que $-1000\\leq y(x) \\leq 1000$ para $x \\in [0,100]$.\n",
    "Afortunadamente, usted se ha dado cuenta que puede usar algoritmos numéricos para encontrar una aproximación numérica de $y(x)$ sobre una grilla de puntos $x_i=100\\frac{i}{M}$, con $i\\in\\{0,1,\\dots,M\\}$.\n",
    "Una estrategia para resolver este tipo de problemas es discretizar el dominio de la función, y en lugar de encontrar la función $y(x)$ algebraicamente, se encuentra una aproximación a $y(x_i)$ para cada $x_i$.\n",
    "\n",
    "Note que ya conocemos el valor exacto de $y(x_0)=y(0)=1$ por la condición inicial, por lo que necesitamos obtener el siguiente valor $y(x_1)$ y así sucesivamente hasta $y(x_M)$.\n",
    "Para hacer esto, primero hagamos un poco de desarrollo algebraico. \n",
    "Al integrar la ecuación diferencial entre $x_0$ y $x_1$ obtenemos:\n",
    "\n",
    "\\begin{equation*}\n",
    "\\int_{x_0}^{x_1} \\dfrac{dy}{dx}(x) \\, \\mathrm{d}x  =  \\int_{x_0}^{x_1} y(x)\\,\\cos{(x+y(x))} \\, \\mathrm{d}x.\n",
    "\\end{equation*}\n",
    "\n",
    "Por el **teorema fundamental del cálculo**, esto es:\n",
    "\n",
    "\\begin{equation*}\n",
    " y(x_1)- y(x_0)   =  \\int_{x_0}^{x_1} \\! y(x)\\cos{(x+y(x))} \\, \\mathrm{d}x.\n",
    "\\end{equation*}\n",
    "\n",
    "Hasta este punto no se ha realizado ninguna aproximación.\n",
    "Nótese que $y(x_1)$ es lo que buscamos y $y(x_0)$ es conocido, asi que vamos bien encaminados. \n",
    "Sin embargo necesitamos $y(x)$ para realizar la integral del lado derecho de la ecuación.\n",
    "Entonces, ahora es un buen momento para realizar una aproximación numérica.\n",
    "En este caso, utilizaremos el método de integración de trapecio.\n",
    "Este consiste en que una integral definida $\\int_a^b\\,f(x)\\,\\mathrm{d}x$ es obtenida por medio de la siguiente expresión $\\dfrac{f(a)+f(b)}{2}(b-a)+\\text{Error}$, i.e. $\\int_a^b\\,f(x)\\,\\mathrm{d}x\\approx\\dfrac{f(a)+f(b)}{2}(b-a)$.\n",
    "En la siguiente figura se muestra un sketch de la aproximación:"
   ]
  },
  {
   "cell_type": "markdown",
   "metadata": {},
   "source": [
    "<img src=\"Trapezoidal-Rule.png\" style=\"width:50%\">"
   ]
  },
  {
   "cell_type": "markdown",
   "metadata": {},
   "source": [
    "donde la función a integrar es la curva en rojo, el valor de la integral, en este caso, corresponde al área bajo la curva en gris, la aproximación de la integral $\\int_a^b\\,f(x)\\,\\mathrm{d}x$ por medio de un trapecio es la área achurada en celeste y el Error es la diferencia entre en valor de la integral y la aproximación por trapecio. \n",
    "Por ahora solo es necesario entender que el Error _debería_ disminuir a medida que el largo del intervalo $[a,b]$ sea más pequeño. Entonces, en nuestro caso esto se reduce a:\n",
    "\n",
    "\\begin{equation*}\n",
    " y(x_1)- y(x_0)   \\approx  \\dfrac{x_1-x_0}{2}\\left(y(x_1)\\cos{(x_1+y(x_1))}+y(x_0)\\cos{(x_0+y(x_0))}\\right).\n",
    "\\end{equation*}\n",
    "\n",
    "Lo que se transforma en el siguiente método numérico:\n",
    "\n",
    "\\begin{equation*}\n",
    " y_1- y_0   =  \\dfrac{x_1-x_0}{2}\\left(y_1\\cos{(x_1+y_1)}+y_0\\cos{(x_0+y_0)}\\right),\n",
    "\\end{equation*}\n",
    "\n",
    "donde lo conocido es $x_0$, $x_1$ y $y_0$ y lo que se busca es $y_1$. En el caso general, obtenemos\n",
    "la siguiente secuencia de ecuaciones que se deben resolver:\n",
    "\n",
    "\\begin{equation*}\n",
    " y_{i+1}- y_i   =  \\dfrac{x_{i+1}-x_i}{2}\\left(y_{i+1}\\cos{(x_{i+1}+y_{i+1})}+y_i\\cos{(x_i+y_i)}\\right),\n",
    "\\end{equation*}\n",
    "\n",
    "para $i\\in\\{0,1,\\dots,M\\}$, $x_i=100\\frac{i}{M}$ y $y_0=1$. _Con esta solución, los Avengers y la capitana Marvel tendrán todas la herramientas para derrotar a Thanos!_\n",
    "\n",
    "**Note: From now on $M$ will be denoted as $M\\_$intervals in the code.**"
   ]
  },
  {
   "cell_type": "markdown",
   "metadata": {},
   "source": [
    "----"
   ]
  },
  {
   "cell_type": "markdown",
   "metadata": {},
   "source": [
    "## Preguntas\n",
    "---"
   ]
  },
  {
   "cell_type": "markdown",
   "metadata": {},
   "source": [
    "# 1.- Construcción\n",
    "Explique cómo usar los tres métodos de búsqueda de raíces vistos en clases (bisección, iteración de punto fijo y método de Newton) para resolver la secuencia de problemas mencionados anteriormente.\n",
    "Debe explicitar completamente todo lo que necesita para luego poder implementar cada método.\n",
    "Sea claro y explícito en su estrategia. Se indicará en cada método lo mínimo que debe explicar.\n",
    "Ver [04_roots_of_1D_equations.ipynb](https://github.com/tclaudioe/Scientific-Computing/blob/master/SC1/04_roots_of_1D_equations.ipynb) para referencia.\n",
    "\n",
    "- Método de la Bisección. Debe escribir explícitamente cual es la función 'f' a utilizar y los intervalos $[a,b]$ a utilizar. <span style=\"color:blue; font-size: 2em\"> **10 puntos**</span> "
   ]
  },
  {
   "cell_type": "markdown",
   "metadata": {},
   "source": [
    "Para utilizar el Método de la Bisección es necesario tener una función y un intervalo asociado a este. En este caso se tiene una secuencia de ecuaciones a resolver, por lo que, hay que trabajar la función para obtener una forma general y una estrategia para los intervalos en cada problema.\n",
    "\n",
    "Tomando el caso general para la secuencia de ecuaciones:\n",
    "\n",
    "\\begin{equation*}\n",
    " y_{i+1}- y_i   =  \\dfrac{x_{i+1}-x_i}{2}\\left(y_{i+1}\\cos{(x_{i+1}+y_{i+1})}+y_i\\cos{(x_i+y_i)}\\right),\n",
    "\\end{equation*}\n",
    "\n",
    "Remplazando $x_i=100\\frac{i}{M}$ en la ecuación y re-ordenando los elementos se tiene que:\n",
    "\n",
    "\\begin{equation*}\n",
    " \\dfrac{50}{M}\\left(y_{i+1}\\cos{(\\frac{100(i+1)}{M} + y_{i+1})}+y_i\\cos{(\\frac{100i}{M} + y_{i+1})}\\right) - y_{i+1} + y_{i}   =  0\n",
    "\\end{equation*}\n",
    "\n",
    "Entonces la función a utilizar queda como:\n",
    "\n",
    "\\begin{equation*}\n",
    " f(y_{i+1}) = \\dfrac{50}{M}\\left(y_{i+1}\\cos{(\\frac{100(i+1)}{M} + y_{i+1})}+y_i\\cos{(\\frac{100i}{M} + y_{i+1})}\\right) - y_{i+1} + y_{i}\n",
    "\\end{equation*}\n",
    "\n",
    "Sin embargo, para poder aplicar el Método de la Bisección se necesita un intervalo y puede que este no sea el mismo para cada caso; por tanto, hay que un intervalo para cada caso en la secuencia. Lo importante es que cada intervalo tipo $[a, b]$ cumpla con la siguiente condición: \n",
    "\n",
    "\\begin{equation*}\n",
    " f(a) * f(b) < 0\n",
    "\\end{equation*}\n",
    "\n",
    "Una estrategia es encontrar directamente un intervalo de tipo $[-x, x]$ que satisfaga la condición anterior para cada ecuación. \n",
    "Para ello se usarán funciones de numpy. La idea es crear un arreglo con el dominio de $x$ (0 a 100), lo que se puede lograr con la función \"arange\" y utilizar \"argmax\" para encontrar instantáneamente el mínimo valor que permita aplicar bisección. La ventaja de esto es que no es necesario tener que probar cada elemento. "
   ]
  },
  {
   "cell_type": "code",
   "execution_count": 18,
   "metadata": {},
   "outputs": [
    {
     "name": "stdout",
     "output_type": "stream",
     "text": [
      "[ -2 , 2 ]\n"
     ]
    }
   ],
   "source": [
    "#Definición de variables del primer caso de la ecuación para determinar y_1\n",
    "i = 0\n",
    "y_0 = 0\n",
    "M = 1000\n",
    "\n",
    "#Función a utilizar en los distintos métodos.\n",
    "f = lambda y: (50/(M)) * (y*(np.cos(100*(i+1)/M + y)) + y_0 * (np.cos(100 * i/M + y_0))) -y + y_0\n",
    "\n",
    "#Creación de arreglo con los valores de x sin discretizar\n",
    "x = np.arange(0, 100)\n",
    "\n",
    "#Mínimo valor que permite realizar el Método de Bisección para el primer caso, según la condición definida en el algoritmo\n",
    "val = np.argmax(f(x) * f(-x) < 0)\n",
    "\n",
    "#Intervalo encontrado\n",
    "print(\"[\",-sol,\",\",sol,\"]\")"
   ]
  },
  {
   "cell_type": "markdown",
   "metadata": {},
   "source": [
    "Por tanto, el intervalo encontrado es el mínimo valor del arreglo que permite poder realizar la bisección por cumplir la condición. En otras palabras lo que se hace es tomar todo el dominio de la EDO sin discretizar y encontrar el primer intervalo en donde la función corte el eje X. Como el método consiste en dividir en subintervalos, debe haber definitivamente un rango en donde se pueda realizar bisección sin tener que iterar todas las posibilidades para encontrarlo."
   ]
  },
  {
   "cell_type": "markdown",
   "metadata": {},
   "source": [
    "- Iteración de Punto Fijo (Restricción: Aquí no se puede usar el método de Newton). Explique cual será su _initial guess_ y la función 'g' a utilizar. Se espera que sea convergente. <span style=\"color:blue; font-size: 2em\"> **10 puntos**</span> "
   ]
  },
  {
   "cell_type": "markdown",
   "metadata": {},
   "source": [
    "Para encontrar la solución de una ecuación utilizando este método es necesario definir una función g tal que $x = g(x)$. Entonces, la idea es encontrar una solución a una función de forma $f(x) = g(x) - x$ mientras se itera $g(x)$.\n",
    "\n",
    "Tomando la función $f(y_{i+1})$ definida en el punto anterior:\n",
    "\n",
    "\\begin{equation*}\n",
    " f(y_{i+1}) = \\dfrac{50}{M}\\left(y_{i+1}\\cos{(\\frac{100(i+1)}{M} + y_{i+1})}+y_i\\cos{(\\frac{100i}{M} + y_{i+1})}\\right) - y_{i+1} + y_{i}\n",
    "\\end{equation*}\n",
    "\n",
    "Basta con cumplir:\n",
    "\n",
    "\\begin{equation*}\n",
    " f(y_{i+1}) = g(y_{i+1}) - y_{i+1}\n",
    "\\end{equation*}\n",
    "\n",
    "Por tanto, $g(y_{i+1})$ queda definida como:\n",
    "\n",
    "\\begin{equation*}\n",
    " g(y_{i+1}) = \\dfrac{50}{M}\\left(y_{i+1}\\cos{(\\frac{100(i+1)}{M} + y_{i+1})}+y_i\\cos{(\\frac{100i}{M} + y_{i+1})}\\right) + y_{i}\n",
    "\\end{equation*}\n",
    "\n",
    "Por otra parte, para determinar un _initial guess_ se esperaría encontrar un valor cercano que hiciera que $f(y_{i+1}) = 0$. Para ello, evaluando $f(y_{1})$:\n",
    "\n",
    "\\begin{equation*}\n",
    " f(y_{1}) = \\dfrac{50}{M}\\left(y_{1}\\cos{(\\frac{100}{M} + y_{1})}+\\cos{(y_{1})}\\right) -y_1 + 1 = 0\n",
    "\\end{equation*}\n",
    "\n",
    "Como la función depende de M, se puede facilitar la evaluación graficando el caso para encontrar un valor aproximado para que $f(y_1) = 0$."
   ]
  },
  {
   "cell_type": "code",
   "execution_count": 66,
   "metadata": {},
   "outputs": [
    {
     "data": {
      "application/vnd.jupyter.widget-view+json": {
       "model_id": "009a0103a1344943a882f7e8e78db415",
       "version_major": 2,
       "version_minor": 0
      },
      "text/plain": [
       "interactive(children=(IntSlider(value=100, description='M_intervals', max=1000, min=100, step=100), Output()),…"
      ]
     },
     "metadata": {},
     "output_type": "display_data"
    },
    {
     "data": {
      "text/plain": [
       "<function __main__.plot_for_initial_guess(M_intervals=10)>"
      ]
     },
     "execution_count": 66,
     "metadata": {},
     "output_type": "execute_result"
    }
   ],
   "source": [
    "#Gráfica para encontrar un valor aproximado para que f(y_1) = 0\n",
    "def plot_for_initial_guess(M_intervals=10):\n",
    "    y_1 = np.linspace(0,10,M_intervals+1)\n",
    "    fy = (50/M_intervals) * (y_1*np.cos((100/M_intervals) + y_1) + np.cos(y_1)) - y_1 + 1\n",
    "    plt.figure(figsize=(8,8))\n",
    "    plt.plot(y_1,fy,'b-',label='f(y_1)')\n",
    "    plt.legend(loc='best')\n",
    "    plt.title('Grafica de f(y_1) en un intervalo variable M_intervals')\n",
    "    plt.grid(True)\n",
    "    plt.show()\n",
    "    \n",
    "interact(plot_for_initial_guess,M_intervals=(100,1000,100))"
   ]
  },
  {
   "cell_type": "markdown",
   "metadata": {},
   "source": [
    "Observando el gráfico anterior es posible notar que el valor de $y_1$ para encontrar una raiz está un poco más a la derecha de 1. Por tanto, se escogerá 1.2 como _initial guess_. Como la función general depende de cosenos y M, se esperaría que los valores de todas las soluciones oscilen en torno a un intervalo que tenga valores parecidos, tanto en su parte positiva como negativa.\n",
    "\n",
    "\\begin{equation*}\n",
    " x_0 = y_1 = 1.2\n",
    "\\end{equation*}\n",
    "\n",
    "Para demostrar su convergencia se puede utilizar el Diagrama de Cobweb y la definición de Iteración de Punto Fijo explicados en el notebook del profesor X."
   ]
  },
  {
   "cell_type": "code",
   "execution_count": 70,
   "metadata": {},
   "outputs": [],
   "source": [
    "#Definición de función para gráficar el Diagrama de Cobweb, obtenido desde el notebook de referencia.\n",
    "def cobweb(x,g=None):\n",
    "    min_x = np.amin(x)\n",
    "    max_x = np.amax(x)\n",
    "    \n",
    "    plt.figure(figsize=(10,10))\n",
    "    ax = plt.axes()\n",
    "    plt.plot(np.array([min_x,max_x]),np.array([min_x,max_x]),'b-')\n",
    "    for i in np.arange(x.size-1):\n",
    "        delta_x = x[i+1]-x[i]\n",
    "        head_length =  np.abs(delta_x)*0.04\n",
    "        arrow_length = delta_x-np.sign(delta_x)*head_length\n",
    "        ax.arrow(x[i], x[i], 0, arrow_length, head_width=1.5*head_length, head_length=head_length, fc='k', ec='k')\n",
    "        ax.arrow(x[i], x[i+1], arrow_length, 0, head_width=1.5*head_length, head_length=head_length, fc='k', ec='k')\n",
    "    \n",
    "    if g!=None:\n",
    "        y = np.linspace(min_x,max_x,1000)\n",
    "        plt.plot(y,g(y),'r')\n",
    "    \n",
    "    plt.title('Cobweb diagram')\n",
    "    plt.grid(True)\n",
    "    plt.show()"
   ]
  },
  {
   "cell_type": "code",
   "execution_count": 68,
   "metadata": {},
   "outputs": [],
   "source": [
    "#Defición algoritmo Iteración de Punto Fijo, obtenido desde el notebook de referencia.\n",
    "def fpi(g, x0, k, flag_cobweb=False):\n",
    "    x = np.empty(k+1)\n",
    "    x[0] = x0\n",
    "    error_i = np.inf\n",
    "    \n",
    "    for i in range(k):\n",
    "        x[i+1] = g(x[i])\n",
    "        error_iminus1 = error_i\n",
    "        error_i = abs(x[i+1]-x[i])\n",
    "\n",
    "    if flag_cobweb:\n",
    "        cobweb(x,g)\n",
    "    return x[-1]"
   ]
  },
  {
   "cell_type": "code",
   "execution_count": 69,
   "metadata": {},
   "outputs": [
    {
     "data": {
      "image/png": "[encoded data removed]",
      "text/plain": [
       "<Figure size 720x720 with 1 Axes>"
      ]
     },
     "metadata": {
      "needs_background": "light"
     },
     "output_type": "display_data"
    },
    {
     "data": {
      "text/plain": [
       "1.0485017742527836"
      ]
     },
     "execution_count": 69,
     "metadata": {},
     "output_type": "execute_result"
    }
   ],
   "source": [
    "#Evaluación de fpi con g(y_i) definido anteriormente. Se utilizará el primer caso para su evaluación, con 1000 particiones.\n",
    "i = 0\n",
    "y_0 = 1\n",
    "M = 1000\n",
    "g = lambda y: (50/(M)) * (y*(np.cos(100*(i+1)/M + y)) + y_0 * (np.cos(100 * i/M + y_0))) + y_0\n",
    "fpi(g, 1.2, 10, True)"
   ]
  },
  {
   "cell_type": "markdown",
   "metadata": {},
   "source": [
    "Finalmente se determina y se ilustra que la función g determinada anteriormente converge. Además se obtiene el valor de $y_1$ mediante Iteración de Punto Fijo, obteniendo un valor de $y_1 \\approx 1.0485$, lo cual demuestra que el _initial guess_ utilizado es suficiente."
   ]
  },
  {
   "cell_type": "markdown",
   "metadata": {},
   "source": [
    "- Método de Newton. Debe explicar cual es el 'f', su derivada y el _initial guess_ a usar. <span style=\"color:blue; font-size: 2em\"> **10 puntos**</span> "
   ]
  },
  {
   "cell_type": "markdown",
   "metadata": {},
   "source": [
    "La implementación del Método de Newton depende de varios elementos; los más importantes son definir la función f y su derivada f'. Además, es importante obtener su multiplicidad y un _initial guess_.\n",
    "\n",
    "Al igual que en los métodos anteriores se utilizará la misma función f:\n",
    "\n",
    "\\begin{equation*}\n",
    " f(y_{i+1}) = \\dfrac{50}{M}\\left(y_{i+1}\\cos{(\\frac{100(i+1)}{M} + y_{i+1})}+y_i\\cos{(\\frac{100i}{M} + y_{i+1})}\\right) - y_{i+1} + y_{i}\n",
    "\\end{equation*}\n",
    "\n",
    "Para determinar la derivada f' se puede utilizar sympy:"
   ]
  },
  {
   "cell_type": "code",
   "execution_count": 167,
   "metadata": {},
   "outputs": [],
   "source": [
    "x = sym.Symbol('x', real=True)\n",
    "i = sym.Symbol('i', real=True)\n",
    "y = sym.Symbol('y', real=True)\n",
    "M = sym.Symbol('M', real=True)\n",
    "\n",
    "f = (50/(M)) * (x*(sym.cos(100*(i+1)/M + x)) + y * (sym.cos(100 * i/M + y))) -x + y\n",
    "dfdx = f.diff(x)"
   ]
  },
  {
   "cell_type": "markdown",
   "metadata": {},
   "source": [
    "Con esto, se determina que la derivada de f es:\n",
    "\n",
    "\\begin{equation*}\n",
    " f'(x) = \\frac{- M - 50 x \\sin{\\left (\\frac{M x + 100 i + 100}{M} \\right )} + 50 \\cos{\\left (\\frac{M x + 100 i + 100}{M} \\right )}}{M}\n",
    "\\end{equation*}\n",
    "    \n",
    "Al igual que en Iteración de Punto Fijo, se utiliza el mismo _Initial guess_ para la función.\n",
    "\n",
    "\\begin{equation*}\n",
    " x_0 = 1.2\n",
    "\\end{equation*}\n",
    "    \n",
    "Antes de implementar el método, es importante obtener la multiplicidad de la función. Para ello, se puede utilizar el valor de $y_1$ encontrado con Iteración de Punto Fijo y se evalúa en la derivada de f."
   ]
  },
  {
   "cell_type": "code",
   "execution_count": 168,
   "metadata": {},
   "outputs": [
    {
     "data": {
      "text/plain": [
       "-1.0273268661478863"
      ]
     },
     "execution_count": 168,
     "metadata": {},
     "output_type": "execute_result"
    }
   ],
   "source": [
    "i = 0\n",
    "y_0 = 1\n",
    "M = 1000\n",
    "fp = lambda y: -1 + 50*(-y*np.sin(y + (100*i + 100)/M) + np.cos(y + (100*i + 100)/M))/M\n",
    "fp(1.048501767218113)"
   ]
  },
  {
   "cell_type": "markdown",
   "metadata": {},
   "source": [
    "Como $f'(y_1) \\approx -1.028 \\neq 0$, entonces la función tiene multiplicidad 1. \n",
    "\n",
    "En base a todo lo anterior, se tiene la información suficiente para poder implementar el Método de Newton y así poder obtener soluciones a las ecuaciones de la secuencia."
   ]
  },
  {
   "cell_type": "markdown",
   "metadata": {},
   "source": [
    "## 2.- Implementación\n",
    "Aquí usted debe implementar cada uno de los algoritmos propuestos en la pregunta anterior de la forma que los explicó. \n",
    "Usted tendrá que considerar un presupuesto $N\\_budget$ de *operaciones elementales*, es decir, cada vez que en su implementación realice una operación elemental la debe descontar de su presupuesto y el algoritmo debe retornar el vector $\\mathbf{y}$ de soluciones encontradas hasta donde pudo obtener una solución.\n",
    "Si el presupuesto es menor a lo que necesita para poder obtener las $M\\_$intervals raices, el vector debe retornar NaN en las componentes que no pudo obtener. Condicionales no se consideran operaciones elementales pero si hubieran operaciones elementales dentro de un condicional debén incluirse y descontarse del presupuesto cada vez que se realicen.\n",
    "El costo de cada operación viene dado por la siguiente tabla: <br> \n",
    "\n",
    "|Operaciones elementales|Costo|\n",
    "|:----------:|:-------------:|\n",
    "| +,-,*,/ |  1 |\n",
    "| Funciones Elementales (trig, etc) |    50   |"
   ]
  },
  {
   "cell_type": "markdown",
   "metadata": {},
   "source": [
    "- Método de la Bisección. <span style=\"color:blue; font-size: 2em\"> **15 puntos**</span> "
   ]
  },
  {
   "cell_type": "code",
   "execution_count": 159,
   "metadata": {},
   "outputs": [],
   "source": [
    "'''\n",
    "Input: \n",
    "M_intervals - (integer) Number of intervals that the domain [0,100] will be divided.\n",
    "N_budget - (integer) Budget for the number of allowed of elemental operations.\n",
    "tol - (double) Tolerance for the root, it must be greater or equal to 0.\n",
    "Output:\n",
    "y - (double-array) The values of y(x_i) for all the values of x_i. The dimension of this vector is M+1, it must include the initial value. The vector should return NaN if it could not compute any of the values required.\n",
    "'''\n",
    "\n",
    "def bisect_ode_solver(M_intervals=10, N_budget=1e4, tol=1e-8):\n",
    "    y = np.full(M_intervals+1, np.nan)\n",
    "    f = lambda x, y, i: (50/(M_intervals)) * (x*(np.cos(100*(i+1)/M_intervals + x)) + y * (np.cos(100 * i/M_intervals + y))) -x + y\n",
    "    y_i = 1    \n",
    "    x = np.arange(0, 100)\n",
    "    \n",
    "    for i in range(M_intervals+1):\n",
    "        val = np.argmax(f(x, y_i, i) * f(-x, y_i, i) < 0)\n",
    "        N_budget -= 229\n",
    "        a = -val\n",
    "        b = val\n",
    "        fa = f(a, y_i, i)\n",
    "        fb = f(b, y_i, i)\n",
    "        j = 0\n",
    "        \n",
    "        while(b-a)/2 > tol:\n",
    "            c = (a+b)/2.\n",
    "            fc = f(c, y_i, i)\n",
    "            N_budget -= 118\n",
    "            \n",
    "            if fc == 0:\n",
    "                break\n",
    "            elif np.sign(fa*fc) < 0:\n",
    "                N_budget -= 1\n",
    "                b = c\n",
    "                fb = fc\n",
    "            else:\n",
    "                a = c\n",
    "                fa = fc\n",
    "                \n",
    "            j += 1\n",
    "            N_budget -= 1\n",
    "        \n",
    "        y_i = (a+b)/2.\n",
    "        N_budget -= 2\n",
    "        \n",
    "        if(N_budget >= 0):\n",
    "            y[i] = y_i     \n",
    "        else:\n",
    "            break\n",
    "    \n",
    "    return y"
   ]
  },
  {
   "cell_type": "markdown",
   "metadata": {},
   "source": [
    "- Iteración de Punto Fijo (Restricción: Aquí no se puede usar el método de Newton). <span style=\"color:blue; font-size: 2em\"> **15 puntos**</span> \n"
   ]
  },
  {
   "cell_type": "code",
   "execution_count": 165,
   "metadata": {},
   "outputs": [],
   "source": [
    "'''\n",
    "Input: \n",
    "M_intervals - (integer) Number of intervals that the domain [0,100] will be divided.\n",
    "N_budget - (integer) Budget for the number of allowed of elemental operations.\n",
    "tol - (double) Tolerance for the root, it must be greater or equal to 0.\n",
    "Output:\n",
    "y - (double-array) The values of y(x_i) for all the values of x_i. The dimension of this vector is M+1, it must include the initial value. The vector should return NaN if it could not compute any of the values required.\n",
    "'''\n",
    "\n",
    "def fpi_ode_solver(M_intervals=10,N_budget=1e4,tol=1e-8):\n",
    "    y = np.full(M_intervals+1,np.nan)\n",
    "    g = lambda x, y, i: (50/(M_intervals)) * (x*(np.cos(100*(i+1)/M_intervals + x)) + y * (np.cos(100 * i/M_intervals + y))) + y\n",
    "    x0 = 1.2\n",
    "    k = 15\n",
    "    y_i = 1\n",
    "    \n",
    "    for i in range(M_intervals+1):\n",
    "        x = np.empty(k+1)\n",
    "        x[0] = x0\n",
    "        error_i = np.inf\n",
    "        \n",
    "        for j in range(k):\n",
    "            x[j+1] = g(x[j], y_i, i)\n",
    "            N_budget -= 113\n",
    "            error_iminus1 = error_i\n",
    "            error_i = abs(x[j+1]-x[j])\n",
    "            N_budget -= 1\n",
    "        \n",
    "        y_i = x[-1]\n",
    "        \n",
    "        if(N_budget >= 0):\n",
    "            y[i] = y_i\n",
    "        else:\n",
    "            break\n",
    "            \n",
    "    return y"
   ]
  },
  {
   "cell_type": "markdown",
   "metadata": {},
   "source": [
    "- Método de Newton. <span style=\"color:blue; font-size: 2em\"> **15 puntos**</span> "
   ]
  },
  {
   "cell_type": "code",
   "execution_count": 169,
   "metadata": {},
   "outputs": [],
   "source": [
    "'''\n",
    "Input: \n",
    "M_intervals - (integer) Number of intervals that the domain [0,100] will be divided.\n",
    "N_budget - (integer) Budget for the number of allowed of elemental operations.\n",
    "tol - (double) Tolerance for the root, it must be greater or equal to 0.\n",
    "Output:\n",
    "y - (double-array) The values of y(x_i) for all the values of x_i. The dimension of this vector is M+1, it must include the initial value. The vector should return NaN if it could not compute any of the values required.\n",
    "'''\n",
    "\n",
    "def newton_ode_solver(M_intervals=10,N_budget=1e4,tol=1e-8):\n",
    "    y = np.full(M_intervals+1,np.nan)\n",
    "    f = lambda x, y, i: (50/(M_intervals)) * (x*(np.cos(100*(i+1)/M_intervals + x)) + y * (np.cos(100 * i/M_intervals + y))) -x + y\n",
    "    fp = lambda x, y, i: -1 + 50*(-x*np.sin(x + (100*i + 100)/M_intervals) + np.cos(x + (100*i + 100)/M_intervals))/M_intervals\n",
    "    y_i = 1\n",
    "    x0 = 0\n",
    "    m = 1\n",
    "\n",
    "    for i in range(M_intervals+1):\n",
    "        N_budget -= 1\n",
    "        hybrid_error = 100\n",
    "        error_i = np.inf\n",
    "        j = 1\n",
    "        \n",
    "        while (hybrid_error > tol and hybrid_error < 1e12 and i < 1e4):\n",
    "            x1 = x0-m*f(x0, y_i, i)/fp(x0, y_i, i)\n",
    "            N_budget -= 232\n",
    "            if f(x1, y_i, i) == 0.0:\n",
    "                N_budget -= 114\n",
    "                hybrid_error = 0.0\n",
    "                break\n",
    "            \n",
    "            hybrid_error = abs(x1-x0)/np.max([abs(x1),1e-12])\n",
    "            error_iminus1 = error_i\n",
    "            error_i = abs(x1-x0)\n",
    "            j += 1\n",
    "            x0 = x1\n",
    "            N_budget -= 5\n",
    "            \n",
    "        if hybrid_error < tol:\n",
    "            y_i = x1\n",
    "            if(N_budget >= 0):\n",
    "                y[i] = y_i\n",
    "            else:\n",
    "                break\n",
    "        elif i>=1e4:\n",
    "            y[i] = np.nan\n",
    "        else:\n",
    "            y[i] = np.nan\n",
    "            \n",
    "    return y"
   ]
  },
  {
   "cell_type": "markdown",
   "metadata": {},
   "source": [
    "## 3.- Visualización y Conclusiones\n",
    "Utilice el siguiente código para visualizar sus resultados. Se incluye esta función para que pueda visualizar sus resultados."
   ]
  },
  {
   "cell_type": "code",
   "execution_count": 170,
   "metadata": {},
   "outputs": [
    {
     "data": {
      "application/vnd.jupyter.widget-view+json": {
       "model_id": "168387981c094a2d8da98cd3c94e6905",
       "version_major": 2,
       "version_minor": 0
      },
      "text/plain": [
       "interactive(children=(IntSlider(value=100, description='M_intervals', max=100000, min=100, step=100), IntSlide…"
      ]
     },
     "metadata": {},
     "output_type": "display_data"
    },
    {
     "data": {
      "text/plain": [
       "<function __main__.plot_solutions_of_ODE(M_intervals=10, N_budget=10000.0, log_tol=-8, shift=0.1)>"
      ]
     },
     "execution_count": 170,
     "metadata": {},
     "output_type": "execute_result"
    }
   ],
   "source": [
    "def plot_solutions_of_ODE(M_intervals=10,N_budget=1e4,log_tol=-8,shift=0.1):\n",
    "    tol = 10**log_tol\n",
    "    x        = np.linspace(0,10,M_intervals+1)\n",
    "    y_bisec  = bisect_ode_solver(M_intervals,N_budget,tol)\n",
    "    y_fpi    = fpi_ode_solver(M_intervals,N_budget,tol)\n",
    "    y_newton = newton_ode_solver(M_intervals,N_budget,tol)\n",
    "    plt.figure(figsize=(8,8))\n",
    "    plt.plot(x,y_bisec+shift,'b-',label='Bisección: y+'+str(shift))\n",
    "    plt.plot(x,y_fpi,'m-',label='FPI: y')\n",
    "    plt.plot(x,y_newton-shift,'g-',label='Newton: y-'+str(shift),linewidth=3,alpha=0.5)\n",
    "    plt.legend(loc='best')\n",
    "    plt.title('Plot of solutions with shift for visualization purposes')\n",
    "    plt.grid(True)\n",
    "    plt.show()\n",
    "    \n",
    "interact(plot_solutions_of_ODE,M_intervals=(100,100000,100),N_budget=(100,1000000,100),log_tol=(-14,-1,1),shift=(-1,1,0.01))"
   ]
  },
  {
   "cell_type": "markdown",
   "metadata": {},
   "source": [
    "- **Conclusiones**. Escriba las conclusiones de lo aprendido en su tarea, estas deben ser sustentadas con los desarrollos y experimentos numéricos realizados.  <span style=\"color:blue; font-size: 2em\"> **15 puntos**</span> "
   ]
  },
  {
   "cell_type": "markdown",
   "metadata": {},
   "source": [
    "_Answer_"
   ]
  },
  {
   "cell_type": "markdown",
   "metadata": {},
   "source": [
    "-------"
   ]
  },
  {
   "cell_type": "markdown",
   "metadata": {},
   "source": [
    "# Instrucciones:\n",
    "\n",
    "* **Importante, Asegúrese de responder TODO lo que la pregunta pide.**\n",
    "* La estructura de la tarea es la siguiente:\n",
    "     1. Título, nombre de estudiante, email y rol.\n",
    "     2. Responder cada pregunta de forma personal.\n",
    "     5. Referencias. Es muy importante incluir todas las fuentes usadas, de otra forma se considera que lo no se ha citado adecuadamente es su trabajo.\n",
    "* La tarea debe ser realizada en `Jupyter Notebook` (`Python3`) entregado.\n",
    "* Se evaluará la correcta utilización de librerias `NumPy`, `SciPy`, `Matplotlib` y `ipywidgets`, entre otras, así como la **correcta implementación de algoritmos vectorizados**.\n",
    "* **MUY IMPORTANTE** El archivo de entrega debe denominarse TareaN-rol.tar.gz y _notebook_ debe tener como nombre TareaN-rol.ipynb, donde $N$ es el número de la tarea y debe contener un directorio con todos los archivos necesarios para ejecutar el notebook, junto con un archivo README indicando explícitamente las librerías o módulos utilizados, nombre y rol del estudiante. El no cumplimiento de esta regla significa calificación $0$.\n",
    "* El descuento por día de atraso será de $30$ puntos, con un máximo de 1 día de atraso. No se recibirán entregas después de este día.\n",
    "* Debe citar toda fuente de código externo. \n",
    "* El trabajo es personal, no se permite compartir código ni utilizar código de otros, aunque sí se sugiere discutir aspectos generales con sus compañeros.\n",
    "* En caso de sospecha de no cumplimiento de estas instrucciones, se solicitará al involucrado o la involucrada a aclarar la situación. Dependiendo de la justificación se decidirá su calificación, la cual podrá o no ser penalizada.\n",
    "* El no seguir estas instrucciones, implica descuentos en su nota obtenida."
   ]
  },
  {
   "cell_type": "markdown",
   "metadata": {},
   "source": [
    "# Anexo: Pregunta Bonus <span style=\"color:blue\"> **30 puntos**</span> \n",
    "\n",
    "_Los Avengers_, mientras ud. desarrollaba su solución propuesta, han estado trabajando arduamente en paralelo en un nuevo método de búsqueda de raíces que les pueda ser de ayuda.\n",
    "\n",
    "En particular, han desarrollado un método basado en el Método de la Secante. \n",
    "Sin embargo, en lugar de buscar aproximaciones de la raíz mediante secantes trazadas desde 2 _initial guess_, **se proyecta una parábola a partir de 3 _puntos iniciales dados_**.\n",
    "\n",
    "Para ello, se define una parábola de una forma conveniente, a partir de tres puntos $(x_0, f(x_0)), (x_1, f(x_1)),  (x_2, f(x_2))$:\n",
    "\\begin{align*}\n",
    "f(x) = a(x - x_2)^2 + b(x - x_2) + c.\n",
    "\\end{align*}\n",
    "\n",
    "Luego, se obtienen los coeficientes $a, b, c$ a partir de los 3 puntos indicados. \n",
    "Una vez definida la parábola, se elige el punto $x_3$ como **la intersección de la parábola con el eje x más cercana a $x_2$**.\n",
    "A partir de $x_3$, su correspondiente $f(x_3)$ y **junto a dos puntos previos más cercanos a él** se construye una nueva parábola y se continua de la misma forma. A continuación se presenta un _sketch_ gráfico referente al método ($r$ corresponse a la aproximación de la raíz $root$), obtenida desde la parábola construida con $x_0$, $x_1$ y $x_2$.\n",
    "\n",
    "<img src=\"parabola.png\" style=\"width:50%\">\n",
    "\n",
    "Se sugiere además _poner especial cuidado a la pérdida de significancia en este algoritmo._"
   ]
  },
  {
   "cell_type": "markdown",
   "metadata": {},
   "source": [
    "## B.1. Implementación\n",
    "\n",
    "Resuelva el problema de graficar la EDO anteriormente descrita, pero esta vez utilize este algoritmo para resolver la secuencia de problemas de busqueda de raíces. Implemente el algoritmo bajo las mismas condiciones de presupuesto de operaciones elementales. Comparelo con los algoritmos anteriores y explique claramente sus ventajas y desventajas. Se sugiere modificar la función ```python plot_solutions_of_ODE ``` para incluir ```python avengers_ode_solver``` si decide libremente aceptar realizar el bonus."
   ]
  },
  {
   "cell_type": "markdown",
   "metadata": {},
   "source": [
    "```python\n",
    "'''\n",
    "Input: \n",
    "M_intervals - (integer) Number of intervals that the domain [0,100] will be divided.\n",
    "N_budget - (integer) Budget for the number of allowed of elemental operations.\n",
    "tol - (double) Tolerance for the root, it must be greater or equal to 0.\n",
    "Output:\n",
    "y - (double-array) The values of y(x_i) for all the values of x_i. The dimension of this vector is M+1, it must include the initial value. The vector should return NaN if it could not compute any of the values required.\n",
    "'''\n",
    "def avengers_ode_solver(M_intervals=10,N_budget=1e4,tol=1e-8):\n",
    "    y = np.full(M_intervals+1,np.nan)\n",
    "    ...\n",
    "    return y\n",
    "```"
   ]
  },
  {
   "cell_type": "code",
   "execution_count": null,
   "metadata": {},
   "outputs": [],
   "source": []
  }
 ],
 "metadata": {
  "kernelspec": {
   "display_name": "Python 3",
   "language": "python",
   "name": "python3"
  },
  "language_info": {
   "codemirror_mode": {
    "name": "ipython",
    "version": 3
   },
   "file_extension": ".py",
   "mimetype": "text/x-python",
   "name": "python",
   "nbconvert_exporter": "python",
   "pygments_lexer": "ipython3",
   "version": "3.7.1"
  }
 },
 "nbformat": 4,
 "nbformat_minor": 2
}
