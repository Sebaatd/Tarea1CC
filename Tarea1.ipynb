{
 "cells": [
  {
   "cell_type": "markdown",
   "metadata": {},
   "source": [
    "<img src=\"escudo_utfsm.gif\" style=\"float:right;height:100px\">\n",
    "<img src=\"IsotipoDIisocolor.png\" style=\"float:left;height:100px\">\n",
    "<center>\n",
    "    <h1> ILI285 - Computación Científica I / INF285 - Computación Científica</h1>\n",
    "    <h1> Tarea 1: Remember your roots </h1>\n",
    "    <h3> [S]cientific [C]omputing [T]eam 2019</h3>\n",
    "</center>\n",
    "<p>\n",
    "<center>Marzo 2019 - v1.25 </center>\n",
    "</p>\n",
    "\n",
    "---"
   ]
  },
  {
   "cell_type": "markdown",
   "metadata": {},
   "source": [
    "## Contexto\n",
    "\n",
    "La presente tarea tiene como objetivo el uso de algoritmos de búsquedas de ceros en 1D, como adaptarlos a un problema particular y que implicancias tiene el uso de cada uno, tanto desde el punto de vista de la aproximación de la solución como de la computación necesaria. Al final se presenta la interpretación gráfica de las soluciones obtenidas."
   ]
  },
  {
   "cell_type": "markdown",
   "metadata": {},
   "source": [
    "_Nota: En esta tarea no se puede utilizar ```sympy``` en los algoritmos numéricos, pero sí se puede utilizar para desarrollos intermedios, por ejemplo en la sección \"1.- Construcción\"._"
   ]
  },
  {
   "cell_type": "code",
   "execution_count": 12,
   "metadata": {},
   "outputs": [],
   "source": [
    "import numpy as np\n",
    "import matplotlib.pyplot as plt\n",
    "%matplotlib inline\n",
    "from ipywidgets import interact\n",
    "import ipywidgets as widgets"
   ]
  },
  {
   "cell_type": "markdown",
   "metadata": {},
   "source": [
    "-------"
   ]
  },
  {
   "cell_type": "markdown",
   "metadata": {},
   "source": [
    "## Problema\n",
    "\n",
    "El universo de Marvel fue atacado duramente por Thanos en _Avenger Infinity War_. \n",
    "Sin embargo, los Avengers en conjunto con la Capitana Marvel tienen un plan para salvar al universo.\n",
    "Lamentablemente, se han encontrado con la siguiente ecuación diferencial ordinaria que no pueden resolver:\n",
    "\n",
    "\\begin{align*}\n",
    "\\frac{dy}{dx}(x)&=y(x)\\cos{(x+y(x))},\\\\\n",
    "y(0)&=1,\n",
    "\\end{align*}\n",
    "\n",
    "donde $x \\in [0,100]$ y además sabemos que $-1000\\leq y(x) \\leq 1000$ para $x \\in [0,100]$.\n",
    "Afortunadamente, usted se ha dado cuenta que puede usar algoritmos numéricos para encontrar una aproximación numérica de $y(x)$ sobre una grilla de puntos $x_i=100\\frac{i}{M}$, con $i\\in\\{0,1,\\dots,M\\}$.\n",
    "Una estrategia para resolver este tipo de problemas es discretizar el dominio de la función, y en lugar de encontrar la función $y(x)$ algebraicamente, se encuentra una aproximación a $y(x_i)$ para cada $x_i$.\n",
    "\n",
    "Note que ya conocemos el valor exacto de $y(x_0)=y(0)=1$ por la condición inicial, por lo que necesitamos obtener el siguiente valor $y(x_1)$ y así sucesivamente hasta $y(x_M)$.\n",
    "Para hacer esto, primero hagamos un poco de desarrollo algebraico. \n",
    "Al integrar la ecuación diferencial entre $x_0$ y $x_1$ obtenemos:\n",
    "\n",
    "\\begin{equation*}\n",
    "\\int_{x_0}^{x_1} \\dfrac{dy}{dx}(x) \\, \\mathrm{d}x  =  \\int_{x_0}^{x_1} y(x)\\,\\cos{(x+y(x))} \\, \\mathrm{d}x.\n",
    "\\end{equation*}\n",
    "\n",
    "Por el **teorema fundamental del cálculo**, esto es:\n",
    "\n",
    "\\begin{equation*}\n",
    " y(x_1)- y(x_0)   =  \\int_{x_0}^{x_1} \\! y(x)\\cos{(x+y(x))} \\, \\mathrm{d}x.\n",
    "\\end{equation*}\n",
    "\n",
    "Hasta este punto no se ha realizado ninguna aproximación.\n",
    "Nótese que $y(x_1)$ es lo que buscamos y $y(x_0)$ es conocido, asi que vamos bien encaminados. \n",
    "Sin embargo necesitamos $y(x)$ para realizar la integral del lado derecho de la ecuación.\n",
    "Entonces, ahora es un buen momento para realizar una aproximación numérica.\n",
    "En este caso, utilizaremos el método de integración de trapecio.\n",
    "Este consiste en que una integral definida $\\int_a^b\\,f(x)\\,\\mathrm{d}x$ es obtenida por medio de la siguiente expresión $\\dfrac{f(a)+f(b)}{2}(b-a)+\\text{Error}$, i.e. $\\int_a^b\\,f(x)\\,\\mathrm{d}x\\approx\\dfrac{f(a)+f(b)}{2}(b-a)$.\n",
    "En la siguiente figura se muestra un sketch de la aproximación:"
   ]
  },
  {
   "cell_type": "markdown",
   "metadata": {},
   "source": [
    "<img src=\"Trapezoidal-Rule.png\" style=\"width:50%\">"
   ]
  },
  {
   "cell_type": "markdown",
   "metadata": {},
   "source": [
    "donde la función a integrar es la curva en rojo, el valor de la integral, en este caso, corresponde al área bajo la curva en gris, la aproximación de la integral $\\int_a^b\\,f(x)\\,\\mathrm{d}x$ por medio de un trapecio es la área achurada en celeste y el Error es la diferencia entre en valor de la integral y la aproximación por trapecio. \n",
    "Por ahora solo es necesario entender que el Error _debería_ disminuir a medida que el largo del intervalo $[a,b]$ sea más pequeño. Entonces, en nuestro caso esto se reduce a:\n",
    "\n",
    "\\begin{equation*}\n",
    " y(x_1)- y(x_0)   \\approx  \\dfrac{x_1-x_0}{2}\\left(y(x_1)\\cos{(x_1+y(x_1))}+y(x_0)\\cos{(x_0+y(x_0))}\\right).\n",
    "\\end{equation*}\n",
    "\n",
    "Lo que se transforma en el siguiente método numérico:\n",
    "\n",
    "\\begin{equation*}\n",
    " y_1- y_0   =  \\dfrac{x_1-x_0}{2}\\left(y_1\\cos{(x_1+y_1)}+y_0\\cos{(x_0+y_0)}\\right),\n",
    "\\end{equation*}\n",
    "\n",
    "donde lo conocido es $x_0$, $x_1$ y $y_0$ y lo que se busca es $y_1$. En el caso general, obtenemos\n",
    "la siguiente secuencia de ecuaciones que se deben resolver:\n",
    "\n",
    "\\begin{equation*}\n",
    " y_{i+1}- y_i   =  \\dfrac{x_{i+1}-x_i}{2}\\left(y_{i+1}\\cos{(x_{i+1}+y_{i+1})}+y_i\\cos{(x_i+y_i)}\\right),\n",
    "\\end{equation*}\n",
    "\n",
    "para $i\\in\\{0,1,\\dots,M\\}$, $x_i=100\\frac{i}{M}$ y $y_0=1$. _Con esta solución, los Avengers y la capitana Marvel tendrán todas la herramientas para derrotar a Thanos!_\n",
    "\n",
    "**Note: From now on $M$ will be denoted as $M\\_$intervals in the code.**"
   ]
  },
  {
   "cell_type": "markdown",
   "metadata": {},
   "source": [
    "----"
   ]
  },
  {
   "cell_type": "markdown",
   "metadata": {},
   "source": [
    "## Preguntas\n",
    "---"
   ]
  },
  {
   "cell_type": "markdown",
   "metadata": {},
   "source": [
    "# 1.- Construcción\n",
    "Explique cómo usar los tres métodos de búsqueda de raíces vistos en clases (bisección, iteración de punto fijo y método de Newton) para resolver la secuencia de problemas mencionados anteriormente.\n",
    "Debe explicitar completamente todo lo que necesita para luego poder implementar cada método.\n",
    "Sea claro y explícito en su estrategia. Se indicará en cada método lo mínimo que debe explicar.\n",
    "Ver [04_roots_of_1D_equations.ipynb](https://github.com/tclaudioe/Scientific-Computing/blob/master/SC1/04_roots_of_1D_equations.ipynb) para referencia.\n",
    "\n",
    "- Método de la Bisección. Debe escribir explícitamente cual es la función 'f' a utilizar y los intervalos $[a,b]$ a utilizar. <span style=\"color:blue; font-size: 2em\"> **10 puntos**</span> "
   ]
  },
  {
   "cell_type": "markdown",
   "metadata": {},
   "source": [
    "Para utilizar el Método de la Bisección es necesario tener una función y un intervalo asociado a este. En este caso se tiene una secuencia de ecuaciones a resolver, por lo que, hay que trabajar la función para obtener una forma general y buscar una forma de encontrar un intervalo.\n",
    "\n",
    "Tomando el caso general para la secuencia de ecuaciones:\n",
    "\n",
    "\\begin{equation*}\n",
    " y_{i+1}- y_i   =  \\dfrac{x_{i+1}-x_i}{2}\\left(y_{i+1}\\cos{(x_{i+1}+y_{i+1})}+y_i\\cos{(x_i+y_i)}\\right),\n",
    "\\end{equation*}\n",
    "\n",
    "Luego, reemplazando $x_0$, $x_1$ e $y_0$ ya conocidos se tiene que:\n",
    "\n",
    "\\begin{equation*}\n",
    " \\dfrac{100*i}{M}\\left(y_{i+1}\\cos{(\\frac{100 * (i+1)}{M} + y_{i+1})}+\\cos{(100 + \\frac{i}{M} + y_{i+1})}\\right) - y_{i+1} + y_{i}   =  0\n",
    "\\end{equation*}\n",
    "\n",
    "Por tanto, la nueva función 'f' es:\n",
    "\n",
    "\\begin{equation*}\n",
    " f(i) = \\dfrac{100*i}{M}\\left(y_{i+1}\\cos{(\\frac{100 * (i+1)}{M} + y_{i+1})}+\\cos{(100 + \\frac{i}{M} + y_{i+1})}\\right) - y_{i+1} + y_{i}\n",
    "\\end{equation*}\n",
    "\n",
    "Sin embargo, para poder aplicar el Método de la Bisección se debe definir un intervalo. Como el dominio de la nueva función está determinado por la cantidad de subintervalos $M$, hay que probar intervalos que cumplan con la siguiente condición:\n",
    "\n",
    "\\begin{equation*}\n",
    " f(a) * f(b) < 0\n",
    "\\end{equation*}\n",
    "\n",
    "El problema es que no es posible utilizar el mismo intervalo para cada caso de la ecuación. Para ello, se define una estrategia para encontrar el intervalo adecuado para cada caso. Se probarán intervalos de tipo $[-2^i, 2^i]$ para caso. El algoritmo se dentendrá al momento en que un intervalo funcione, y por ende, retornará el y aproximado."
   ]
  },
  {
   "cell_type": "code",
   "execution_count": 41,
   "metadata": {},
   "outputs": [],
   "source": [
    "f = lambda x: (100/(2*100)) * (x*np.cos(100/100 + x) + np.cos(1)) -x + 1"
   ]
  },
  {
   "cell_type": "code",
   "execution_count": 42,
   "metadata": {},
   "outputs": [],
   "source": [
    "def bisect(f, a, b, tol=1e-8):\n",
    "    fa = f(a)\n",
    "    fb = f(b)\n",
    "    i = 0\n",
    "    # Just checking if the sign is not negative => not root  necessarily \n",
    "    if np.sign(f(a)*f(b)) >= 0:\n",
    "        print('f(a)f(b)<0 not satisfied!')\n",
    "        return None\n",
    "  \n",
    "    #Printing the evolution of the computation of the root\n",
    "    print(' i |     a     |     c     |     b     |     fa    |     fc     |     fb     |   b-a')\n",
    "    print('----------------------------------------------------------------------------------------')\n",
    "    \n",
    "    while(b-a)/2 > tol:\n",
    "        c = (a+b)/2.\n",
    "        fc = f(c)\n",
    "        print('%2d | %.7f | %.7f | %.7f | %.7f | %.7f | %.7f | %.7f' %\n",
    "              (i+1, a, c, b, fa, fc, fb, b-a))\n",
    "        # Did we find the root?\n",
    "        if fc == 0:\n",
    "            print('f(c)==0')\n",
    "            break\n",
    "        elif np.sign(fa*fc) < 0:\n",
    "            b = c\n",
    "            fb = fc\n",
    "        else:\n",
    "            a = c\n",
    "            fa = fc\n",
    "        i += 1\n",
    "        \n",
    "    xc = (a+b)/2.\n",
    "    return xc"
   ]
  },
  {
   "cell_type": "code",
   "execution_count": 43,
   "metadata": {},
   "outputs": [
    {
     "name": "stdout",
     "output_type": "stream",
     "text": [
      " i |     a     |     c     |     b     |     fa    |     fc     |     fb     |   b-a\n",
      "----------------------------------------------------------------------------------------\n",
      " 1 | -64.0000000 | 0.0000000 | 64.0000000 | 33.7214605 | 1.2701512 | -80.7283721 | 128.0000000\n",
      " 2 | 0.0000000 | 32.0000000 | 64.0000000 | 1.2701512 | -30.9422768 | -80.7283721 | 64.0000000\n",
      " 3 | 0.0000000 | 16.0000000 | 32.0000000 | 1.2701512 | -16.9311556 | -30.9422768 | 32.0000000\n",
      " 4 | 0.0000000 | 8.0000000 | 16.0000000 | 1.2701512 | -10.3743699 | -16.9311556 | 16.0000000\n",
      " 5 | 0.0000000 | 4.0000000 | 8.0000000 | 1.2701512 | -2.1625245 | -10.3743699 | 8.0000000\n",
      " 6 | 0.0000000 | 2.0000000 | 4.0000000 | 1.2701512 | -1.7198413 | -2.1625245 | 4.0000000\n",
      " 7 | 0.0000000 | 1.0000000 | 2.0000000 | 1.2701512 | 0.0620777 | -1.7198413 | 2.0000000\n",
      " 8 | 1.0000000 | 1.5000000 | 2.0000000 | 0.0620777 | -0.8307066 | -1.7198413 | 1.0000000\n",
      " 9 | 1.0000000 | 1.2500000 | 1.5000000 | 0.0620777 | -0.3724574 | -0.8307066 | 0.5000000\n",
      "10 | 1.0000000 | 1.1250000 | 1.2500000 | 0.0620777 | -0.1508737 | -0.3724574 | 0.2500000\n",
      "11 | 1.0000000 | 1.0625000 | 1.1250000 | 0.0620777 | -0.0431671 | -0.1508737 | 0.1250000\n",
      "12 | 1.0000000 | 1.0312500 | 1.0625000 | 0.0620777 | 0.0097808 | -0.0431671 | 0.0625000\n",
      "13 | 1.0312500 | 1.0468750 | 1.0625000 | 0.0097808 | -0.0166139 | -0.0431671 | 0.0312500\n",
      "14 | 1.0312500 | 1.0390625 | 1.0468750 | 0.0097808 | -0.0033965 | -0.0166139 | 0.0156250\n",
      "15 | 1.0312500 | 1.0351562 | 1.0390625 | 0.0097808 | 0.0031972 | -0.0033965 | 0.0078125\n",
      "16 | 1.0351562 | 1.0371094 | 1.0390625 | 0.0031972 | -0.0000984 | -0.0033965 | 0.0039062\n",
      "17 | 1.0351562 | 1.0361328 | 1.0371094 | 0.0031972 | 0.0015498 | -0.0000984 | 0.0019531\n",
      "18 | 1.0361328 | 1.0366211 | 1.0371094 | 0.0015498 | 0.0007258 | -0.0000984 | 0.0009766\n",
      "19 | 1.0366211 | 1.0368652 | 1.0371094 | 0.0007258 | 0.0003137 | -0.0000984 | 0.0004883\n",
      "20 | 1.0368652 | 1.0369873 | 1.0371094 | 0.0003137 | 0.0001077 | -0.0000984 | 0.0002441\n",
      "21 | 1.0369873 | 1.0370483 | 1.0371094 | 0.0001077 | 0.0000047 | -0.0000984 | 0.0001221\n",
      "22 | 1.0370483 | 1.0370789 | 1.0371094 | 0.0000047 | -0.0000468 | -0.0000984 | 0.0000610\n",
      "23 | 1.0370483 | 1.0370636 | 1.0370789 | 0.0000047 | -0.0000211 | -0.0000468 | 0.0000305\n",
      "24 | 1.0370483 | 1.0370560 | 1.0370636 | 0.0000047 | -0.0000082 | -0.0000211 | 0.0000153\n",
      "25 | 1.0370483 | 1.0370522 | 1.0370560 | 0.0000047 | -0.0000018 | -0.0000082 | 0.0000076\n",
      "26 | 1.0370483 | 1.0370502 | 1.0370522 | 0.0000047 | 0.0000014 | -0.0000018 | 0.0000038\n",
      "27 | 1.0370502 | 1.0370512 | 1.0370522 | 0.0000014 | -0.0000002 | -0.0000018 | 0.0000019\n",
      "28 | 1.0370502 | 1.0370507 | 1.0370512 | 0.0000014 | 0.0000006 | -0.0000002 | 0.0000010\n",
      "29 | 1.0370507 | 1.0370510 | 1.0370512 | 0.0000006 | 0.0000002 | -0.0000002 | 0.0000005\n",
      "30 | 1.0370510 | 1.0370511 | 1.0370512 | 0.0000002 | 0.0000000 | -0.0000002 | 0.0000002\n",
      "31 | 1.0370511 | 1.0370511 | 1.0370512 | 0.0000000 | -0.0000001 | -0.0000002 | 0.0000001\n",
      "32 | 1.0370511 | 1.0370511 | 1.0370511 | 0.0000000 | -0.0000000 | -0.0000001 | 0.0000001\n",
      "33 | 1.0370511 | 1.0370511 | 1.0370511 | 0.0000000 | 0.0000000 | -0.0000000 | 0.0000000\n"
     ]
    },
    {
     "data": {
      "text/plain": [
       "1.0370511040091515"
      ]
     },
     "execution_count": 43,
     "metadata": {},
     "output_type": "execute_result"
    }
   ],
   "source": [
    "bisect(f, -64, 64)"
   ]
  },
  {
   "cell_type": "markdown",
   "metadata": {},
   "source": [
    "- Iteración de Punto Fijo (Restricción: Aquí no se puede usar el método de Newton). Explique cual será su _initial guess_ y la función 'g' a utilizar. Se espera que sea convergente. <span style=\"color:blue; font-size: 2em\"> **10 puntos**</span> "
   ]
  },
  {
   "cell_type": "markdown",
   "metadata": {},
   "source": [
    "\\begin{equation*}\n",
    "  y(b) = \\dfrac{b-a}{2}\\left(y(b)\\cos{(b+y(b))}+y(a)\\cos{(a+y(a))}\\right) + y(a),\n",
    "\\end{equation*}\n",
    "\n",
    "\\begin{equation*}\n",
    "  \\dfrac{b-a}{2}\\left(y(b)\\cos{(b+y(b))}+y(a)\\cos{(a+y(a))}\\right)-y(b)+ y(a) = 0,\n",
    "\\end{equation*}\n",
    "\n",
    "\\begin{equation*}\n",
    "  g(Y_{b}) = \\dfrac{b-a}{2}\\left(Y_{b}\\cos{(b+Y_{b})}+y(a)\\cos{(a+y(a))}\\right) + y(a),\n",
    "\\end{equation*}"
   ]
  },
  {
   "cell_type": "code",
   "execution_count": 44,
   "metadata": {},
   "outputs": [],
   "source": [
    "def cobweb(x,g=None):\n",
    "    min_x = np.amin(x)\n",
    "    max_x = np.amax(x)\n",
    "    \n",
    "    plt.figure(figsize=(10,10))\n",
    "    ax = plt.axes()\n",
    "    plt.plot(np.array([min_x,max_x]),np.array([min_x,max_x]),'b-')\n",
    "    for i in np.arange(x.size-1):\n",
    "        delta_x = x[i+1]-x[i]\n",
    "        head_length =  np.abs(delta_x)*0.04\n",
    "        arrow_length = delta_x-np.sign(delta_x)*head_length\n",
    "        ax.arrow(x[i], x[i], 0, arrow_length, head_width=1.5*head_length, head_length=head_length, fc='k', ec='k')\n",
    "        ax.arrow(x[i], x[i+1], arrow_length, 0, head_width=1.5*head_length, head_length=head_length, fc='k', ec='k')\n",
    "    \n",
    "    if g!=None:\n",
    "        y = np.linspace(min_x,max_x,1000)\n",
    "        plt.plot(y,g(y),'r')\n",
    "    \n",
    "    plt.title('Cobweb diagram')\n",
    "    plt.grid(True)\n",
    "    plt.show()"
   ]
  },
  {
   "cell_type": "code",
   "execution_count": 45,
   "metadata": {},
   "outputs": [],
   "source": [
    "def fpi(g, x0, k, flag_cobweb=False):\n",
    "    x = np.empty(k+1)\n",
    "    x[0] = x0\n",
    "    error_i = np.inf\n",
    "    \n",
    "    print(' i |     x(i)     |    x(i+1)    ||x(i+1)-x(i)| | e_i/e_{i-1}')\n",
    "    print('--------------------------------------------------------------')\n",
    "    \n",
    "    for i in range(k):\n",
    "        x[i+1] = g(x[i])\n",
    "        error_iminus1 = error_i\n",
    "        error_i = abs(x[i+1]-x[i])\n",
    "        print('%2d | %.10f | %.10f | %.10f | %.10f' %\n",
    "              (i,x[i],x[i+1],error_i,error_i/error_iminus1))\n",
    "    if flag_cobweb:\n",
    "        cobweb(x,g)\n",
    "    return x[-1]"
   ]
  },
  {
   "cell_type": "code",
   "execution_count": 50,
   "metadata": {},
   "outputs": [
    {
     "name": "stdout",
     "output_type": "stream",
     "text": [
      " i |     x(i)     |    x(i+1)    ||x(i+1)-x(i)| | e_i/e_{i-1}\n",
      "--------------------------------------------------------------\n",
      " 0 | 0.0000000000 | 1.2701511529 | 1.2701511529 | 0.0000000000\n",
      " 1 | 1.2701511529 | -0.4088134520 | 1.6789646049 | 1.3218620485\n",
      " 2 | -0.4088134520 | 1.5092497997 | 1.9180632516 | 1.1424083903\n",
      " 3 | 1.5092497997 | -0.8478130580 | 2.3570628576 | 1.2288765011\n",
      " 4 | -0.8478130580 | 1.6989572355 | 2.5467702935 | 1.0804846741\n",
      " 5 | 1.6989572355 | -1.1964170429 | 2.8953742784 | 1.1368808117\n",
      " 6 | -1.1964170429 | 1.8798619625 | 3.0762790054 | 1.0624806017\n",
      " 7 | 1.8798619625 | -1.5176311292 | 3.3974930917 | 1.1044164348\n",
      " 8 | -1.5176311292 | 2.1283762698 | 3.6460073990 | 1.0731463760\n",
      " 9 | 2.1283762698 | -1.9223203108 | 4.0506965806 | 1.1109951619\n",
      "10 | -1.9223203108 | 2.6119571767 | 4.5342774875 | 1.1193821599\n",
      "11 | 2.6119571767 | -2.5059594401 | 5.1179166169 | 1.1287171178\n",
      "12 | -2.5059594401 | 3.6949281962 | 6.2008876363 | 1.2116038811\n",
      "13 | 3.6949281962 | -2.4570335760 | 6.1519617723 | 0.9921098612\n",
      "14 | -2.4570335760 | 3.5877265451 | 6.0447601211 | 0.9825743958\n",
      "15 | 3.5877265451 | -2.5406239844 | 6.1283505295 | 1.0138285733\n",
      "16 | -2.5406239844 | 3.7724526642 | 6.3130766486 | 1.0301428775\n",
      "17 | 3.7724526642 | -2.3890759176 | 6.1615285818 | 0.9759945784\n",
      "18 | -2.3890759176 | 3.4433478754 | 5.8324237930 | 0.9465871521\n",
      "19 | 3.4433478754 | -2.6308299807 | 6.0741778561 | 1.0414500166\n",
      "20 | -2.6308299807 | 3.9799028759 | 6.6107328566 | 1.0883337652\n",
      "21 | 3.9799028759 | -2.1837387460 | 6.1636416219 | 0.9323688849\n",
      "22 | -2.1837387460 | 3.0417470951 | 5.2254858411 | 0.8477919648\n",
      "23 | 3.0417470951 | -2.7168020960 | 5.7585491911 | 1.1020122083\n",
      "24 | -2.7168020960 | 4.1845837179 | 6.9013858139 | 1.1984591231\n",
      "25 | 4.1845837179 | -1.9627704529 | 6.1473541708 | 0.8907419954\n",
      "26 | -1.9627704529 | 2.6723070064 | 4.6350774593 | 0.7539955126\n",
      "27 | 2.6723070064 | -2.5545157252 | 5.2268227316 | 1.1276667494\n",
      "28 | -2.5545157252 | 3.8038732704 | 6.3583889957 | 1.2164921831\n",
      "29 | 3.8038732704 | -2.3599674013 | 6.1638406717 | 0.9694028906\n",
      "30 | -2.3599674013 | 3.3831827246 | 5.7431501260 | 0.9317486340\n",
      "31 | 3.3831827246 | -2.6599095445 | 6.0430922692 | 1.0522260670\n",
      "32 | -2.6599095445 | 4.0484204490 | 6.7083299936 | 1.1100823378\n",
      "33 | 4.0484204490 | -2.1107998921 | 6.1592203412 | 0.9181451042\n",
      "34 | -2.1107998921 | 2.9124116087 | 5.0232115008 | 0.8155596362\n",
      "35 | 2.9124116087 | -2.6868556013 | 5.5992672100 | 1.1146787686\n",
      "36 | -2.6868556013 | 4.1125742180 | 6.7994298193 | 1.2143427996\n",
      "37 | 4.1125742180 | -2.0413163278 | 6.1538905458 | 0.9050597932\n",
      "38 | -2.0413163278 | 2.7959487478 | 4.8372650756 | 0.7860499045\n",
      "39 | 2.7959487478 | -2.6350063888 | 5.4309551366 | 1.1227325879\n",
      "40 | -2.6350063888 | 3.9896963843 | 6.6247027732 | 1.2198043634\n",
      "41 | 3.9896963843 | -2.1734217943 | 6.1631181786 | 0.9303237277\n",
      "42 | -2.1734217943 | 3.0230171480 | 5.1964389423 | 0.8431509492\n",
      "43 | 3.0230171480 | -2.7142649306 | 5.7372820786 | 1.1040795711\n",
      "44 | -2.7142649306 | 4.1784547243 | 6.8927196550 | 1.2013911048\n",
      "45 | 4.1784547243 | -1.9694567507 | 6.1479114751 | 0.8919427719\n",
      "46 | -1.9694567507 | 2.6825002219 | 4.6519569726 | 0.7566727321\n",
      "47 | 2.6825002219 | -2.5621246138 | 5.2446248357 | 1.1274018368\n",
      "48 | -2.5621246138 | 3.8211669014 | 6.3832915152 | 1.2171111786\n",
      "49 | 3.8211669014 | -2.3435960718 | 6.1647629732 | 0.9657655394\n",
      "50 | -2.3435960718 | 3.3497989953 | 5.6933950671 | 0.9235383569\n",
      "51 | 3.3497989953 | -2.6737296826 | 6.0235286779 | 1.0579853685\n",
      "52 | -2.6737296826 | 4.0812459496 | 6.7549756322 | 1.1214316381\n",
      "53 | 4.0812459496 | -2.0753491685 | 6.1565951181 | 0.9114163327\n",
      "54 | -2.0753491685 | 2.8521637899 | 4.9275129584 | 0.8003633281\n",
      "55 | 2.8521637899 | -2.6629676915 | 5.5151314814 | 1.1192525576\n",
      "56 | -2.6629676915 | 4.0556698323 | 6.7186375238 | 1.2182189213\n",
      "57 | 4.0556698323 | -2.1029933894 | 6.1586632216 | 0.9166535923\n",
      "58 | -2.1029933894 | 2.8989969625 | 5.0019903518 | 0.8121876732\n",
      "59 | 2.8989969625 | -2.6820829966 | 5.5810799591 | 1.1157718361\n",
      "60 | -2.6820829966 | 4.1011663333 | 6.7832493299 | 1.2154008507\n",
      "61 | 4.1011663333 | -2.0537266743 | 6.1548930077 | 0.9073664712\n",
      "62 | -2.0537266743 | 2.8162633432 | 4.8699900176 | 0.7912387773\n",
      "63 | 2.8162633432 | -2.6457400874 | 5.4620034307 | 1.1215635784\n",
      "64 | -2.6457400874 | 4.0149393171 | 6.6606794046 | 1.2194571990\n",
      "65 | 4.0149393171 | -2.1466511916 | 6.1615905088 | 0.9250693712\n",
      "66 | -2.1466511916 | 2.9750839795 | 5.1217351712 | 0.8312358901\n",
      "67 | 2.9750839795 | -2.7050003048 | 5.6800842843 | 1.1090156157\n",
      "68 | -2.7050003048 | 4.1561179922 | 6.8611182970 | 1.2079254380\n",
      "69 | 4.1561179922 | -1.9938346554 | 6.1499526476 | 0.8963484350\n",
      "70 | -1.9938346554 | 2.7201873815 | 4.7140220368 | 0.7665135501\n",
      "71 | 2.7201873815 | -2.5887501167 | 5.3089374981 | 1.1262012474\n",
      "72 | -2.5887501167 | 3.8821389589 | 6.4708890756 | 1.2188670667\n",
      "73 | 3.8821389589 | -2.2840714352 | 6.1662103941 | 0.9529154838\n",
      "74 | -2.2840714352 | 3.2312407893 | 5.5153122244 | 0.8944411351\n",
      "75 | 3.2312407893 | -2.7087944100 | 5.9400351992 | 1.0770079657\n",
      "76 | -2.7087944100 | 4.1652571281 | 6.8740515380 | 1.1572408761\n",
      "77 | 4.1652571281 | -1.9838594344 | 6.1491165625 | 0.8945403636\n",
      "78 | -1.9838594344 | 2.7046668600 | 4.6885262945 | 0.7624715269\n",
      "79 | 2.7046668600 | -2.5780733787 | 5.2827402387 | 1.1267378931\n",
      "80 | -2.5780733787 | 3.8576048357 | 6.4356782144 | 1.2182461987\n",
      "81 | 3.8576048357 | -2.3083443684 | 6.1659492041 | 0.9580884871\n",
      "82 | -2.3083443684 | 3.2790463274 | 5.5873906958 | 0.9061687845\n",
      "83 | 3.2790463274 | -2.6973421405 | 5.9763884680 | 1.0696206500\n",
      "84 | -2.6973421405 | 4.1377068259 | 6.8350489664 | 1.1436754828\n",
      "85 | 4.1377068259 | -2.0139253826 | 6.1516322084 | 0.9000128951\n",
      "86 | -2.0139253826 | 2.7518640336 | 4.7657894161 | 0.7747194980\n",
      "87 | 2.7518640336 | -2.6092788804 | 5.3611429140 | 1.1249223257\n",
      "88 | -2.6092788804 | 3.9296234998 | 6.5389023802 | 1.2196844003\n",
      "89 | 3.9296234998 | -2.2359965361 | 6.1656200359 | 0.9429136080\n",
      "90 | -2.2359965361 | 3.1387957247 | 5.3747922608 | 0.8717358886\n",
      "91 | 3.1387957247 | -2.7202841662 | 5.8590798909 | 1.0901035066\n",
      "92 | -2.7202841662 | 4.1930035962 | 6.9132877624 | 1.1799272055\n",
      "93 | 4.1930035962 | -1.9535888231 | 6.1465924193 | 0.8890983032\n",
      "94 | -1.9535888231 | 2.6584103003 | 4.6119991234 | 0.7503343005\n",
      "95 | 2.6584103003 | -2.5438648290 | 5.2022751294 | 1.1279870161\n",
      "96 | -2.5438648290 | 3.7797650777 | 6.3236299068 | 1.2155508406\n",
      "97 | 3.7797650777 | -2.3823773318 | 6.1621424095 | 0.9744628481\n",
      "98 | -2.3823773318 | 3.4294115742 | 5.8117889060 | 0.9431442053\n",
      "99 | 3.4294115742 | -2.6380334925 | 6.0674450667 | 1.0439892372\n",
      "100 | -2.6380334925 | 3.9968047848 | 6.6348382773 | 1.0935143548\n",
      "101 | 3.9968047848 | -2.1659083689 | 6.1627131537 | 0.9288415024\n",
      "102 | -2.1659083689 | 3.0094667798 | 5.1753751486 | 0.8397884210\n",
      "103 | 3.0094667798 | -2.7120504602 | 5.7215172400 | 1.1055270537\n",
      "104 | -2.7120504602 | 4.1731094456 | 6.8851599058 | 1.2033800856\n"
     ]
    },
    {
     "data": {
      "image/png": "[encoded data removed]",
      "text/plain": [
       "<Figure size 720x720 with 1 Axes>"
      ]
     },
     "metadata": {
      "needs_background": "light"
     },
     "output_type": "display_data"
    },
    {
     "data": {
      "text/plain": [
       "4.173109445575835"
      ]
     },
     "execution_count": 50,
     "metadata": {},
     "output_type": "execute_result"
    }
   ],
   "source": [
    "g = lambda x: (100/(2*100)) * (x*np.cos(100/100 + x) + np.cos(1)) -x + 1\n",
    "fpi(g, 0, 105, True)"
   ]
  },
  {
   "cell_type": "markdown",
   "metadata": {},
   "source": [
    "- Método de Newton. Debe explicar cual es el 'f', su derivada y el _initial guess_ a usar. <span style=\"color:blue; font-size: 2em\"> **10 puntos**</span> "
   ]
  },
  {
   "cell_type": "code",
   "execution_count": 47,
   "metadata": {},
   "outputs": [],
   "source": [
    "def newton_method(f, fp, x0, rel_error=1e-8, m=1):\n",
    "    #Initialization of hybrid error and absolute\n",
    "    hybrid_error = 100\n",
    "    error_i = np.inf\n",
    "    \n",
    "    print('i |     x(i)     |     x(i+1)   |      |x(i+1)-x(i)|     |  e_i/e_{i-1} | e_i/e_{i-1}^2')\n",
    "    print('----------------------------------------------------------------------------------------')\n",
    "    \n",
    "    #Iteration counter\n",
    "    i = 1\n",
    "    while (hybrid_error > rel_error and hybrid_error < 1e12 and i < 1e4):\n",
    "        #Newton's iteration\n",
    "        x1 = x0-m*f(x0)/fp(x0)\n",
    "        \n",
    "        #Checking if root was found\n",
    "        if f(x1) == 0.0:\n",
    "            hybrid_error = 0.0\n",
    "            break\n",
    "        \n",
    "        #Computation of hybrid error\n",
    "        hybrid_error = abs(x1-x0)/np.max([abs(x1),1e-12])\n",
    "        \n",
    "        #Computation of absolute error\n",
    "        error_iminus1 = error_i\n",
    "        error_i = abs(x1-x0)\n",
    "        \n",
    "        #Increasing counter\n",
    "        i += 1\n",
    "        \n",
    "        #Showing some info\n",
    "        print(\"%d | %.10f | %.10f | %.20f | %.10f | %.10f\" % \n",
    "              (i, x0, x1, error_i, error_i/error_iminus1, error_i/(error_iminus1**2)))\n",
    "        #Updating solution\n",
    "        x0 = x1\n",
    "    \n",
    "    #Checking if solution was obtained\n",
    "    if hybrid_error < rel_error: \n",
    "        return x1\n",
    "    elif i>=1e4:\n",
    "        print('Newton''s Method diverged. Too many iterations!!')\n",
    "        return None\n",
    "    else:\n",
    "        print('Newton''s Method diverged!')\n",
    "        return None"
   ]
  },
  {
   "cell_type": "code",
   "execution_count": 49,
   "metadata": {},
   "outputs": [
    {
     "name": "stdout",
     "output_type": "stream",
     "text": [
      "i |     x(i)     |     x(i+1)   |      |x(i+1)-x(i)|     |  e_i/e_{i-1} | e_i/e_{i-1}^2\n",
      "----------------------------------------------------------------------------------------\n",
      "2 | 0.0000000000 | 1.7402934293 | 1.74029342930418051694 | 0.0000000000 | 0.0000000000\n",
      "3 | 1.7402934293 | 1.0341600598 | 0.70613336950408855941 | 0.4057553500 | 0.2331534115\n",
      "4 | 1.0341600598 | 1.0370527462 | 0.00289268635922690365 | 0.0040965156 | 0.0058013341\n",
      "5 | 1.0370527462 | 1.0370511044 | 0.00000164171733740837 | 0.0005675407 | 0.1961985030\n",
      "6 | 1.0370511044 | 1.0370511044 | 0.00000000000052691185 | 0.0000003210 | 0.1954974939\n",
      "7 | 1.0370511044 | 1.0370511044 | 0.00000000000000022204 | 0.0004214075 | 799768505.9906274080\n"
     ]
    },
    {
     "data": {
      "text/plain": [
       "1.0370511044414543"
      ]
     },
     "execution_count": 49,
     "metadata": {},
     "output_type": "execute_result"
    }
   ],
   "source": [
    "#f = lambda x: np.sin(x)\n",
    "#fp = lambda x: np.cos(x) # derivative of f\n",
    "f = lambda x: (100/(2*100)) * (x*np.cos(100/100 + x) + np.cos(1)) -x + 1\n",
    "fp = lambda x: (1/2) * (-x*np.sin(1+x)+np.cos(1+x)-2)\n",
    "newton_method(f, fp, 0,rel_error=1e-14)"
   ]
  },
  {
   "cell_type": "markdown",
   "metadata": {},
   "source": [
    "## 2.- Implementación\n",
    "Aquí usted debe implementar cada uno de los algoritmos propuestos en la pregunta anterior de la forma que los explicó. \n",
    "Usted tendrá que considerar un presupuesto $N\\_budget$ de *operaciones elementales*, es decir, cada vez que en su implementación realice una operación elemental la debe descontar de su presupuesto y el algoritmo debe retornar el vector $\\mathbf{y}$ de soluciones encontradas hasta donde pudo obtener una solución.\n",
    "Si el presupuesto es menor a lo que necesita para poder obtener las $M\\_$intervals raices, el vector debe retornar NaN en las componentes que no pudo obtener. Condicionales no se consideran operaciones elementales pero si hubieran operaciones elementales dentro de un condicional debén incluirse y descontarse del presupuesto cada vez que se realicen.\n",
    "El costo de cada operación viene dado por la siguiente tabla: <br> \n",
    "\n",
    "|Operaciones elementales|Costo|\n",
    "|:----------:|:-------------:|\n",
    "| +,-,*,/ |  1 |\n",
    "| Funciones Elementales (trig, etc) |    50   |"
   ]
  },
  {
   "cell_type": "markdown",
   "metadata": {},
   "source": [
    "- Método de la Bisección. <span style=\"color:blue; font-size: 2em\"> **15 puntos**</span> "
   ]
  },
  {
   "cell_type": "markdown",
   "metadata": {},
   "source": [
    "```python\n",
    "'''\n",
    "Input: \n",
    "M_intervals - (integer) Number of intervals that the domain [0,100] will be divided.\n",
    "N_budget - (integer) Budget for the number of allowed of elemental operations.\n",
    "tol - (double) Tolerance for the root, it must be greater or equal to 0.\n",
    "Output:\n",
    "y - (double-array) The values of y(x_i) for all the values of x_i. The dimension of this vector is M+1, it must include the initial value. The vector should return NaN if it could not compute any of the values required.\n",
    "'''\n",
    "def bisect_ode_solver(M_intervals=10,N_budget=1e4,tol=1e-8):\n",
    "    y = np.full(M_intervals+1,np.nan)\n",
    "    ...\n",
    "    return y\n",
    "```"
   ]
  },
  {
   "cell_type": "code",
   "execution_count": 55,
   "metadata": {},
   "outputs": [
    {
     "name": "stdout",
     "output_type": "stream",
     "text": [
      "[nan nan nan nan nan nan nan nan nan nan nan]\n"
     ]
    }
   ],
   "source": [
    "def bisect_ode_solver(M_intervals=10, N_budget=1e4, tol=1e-8):\n",
    "    y = np.full(M_intervals+1, np.nan)\n",
    "    return y\n",
    "\n",
    "print(bisect_ode_solver(10, 1e4, 1e-8))"
   ]
  },
  {
   "cell_type": "markdown",
   "metadata": {},
   "source": [
    "- Iteración de Punto Fijo (Restricción: Aquí no se puede usar el método de Newton). <span style=\"color:blue; font-size: 2em\"> **15 puntos**</span> \n",
    "\n",
    "```python\n",
    "'''\n",
    "Input: \n",
    "M_intervals - (integer) Number of intervals that the domain [0,100] will be divided.\n",
    "N_budget - (integer) Budget for the number of allowed of elemental operations.\n",
    "tol - (double) Tolerance for the root, it must be greater or equal to 0.\n",
    "Output:\n",
    "y - (double-array) The values of y(x_i) for all the values of x_i. The dimension of this vector is M+1, it must include the initial value. The vector should return NaN if it could not compute any of the values required.\n",
    "'''\n",
    "def fpi_ode_solver(M_intervals=10,N_budget=1e4,tol=1e-8):\n",
    "    y = np.full(M_intervals+1,np.nan)\n",
    "    ...\n",
    "    return y\n",
    "```\n",
    "\n",
    "- Método de Newton. <span style=\"color:blue; font-size: 2em\"> **15 puntos**</span> \n",
    "\n",
    "```python\n",
    "'''\n",
    "Input: \n",
    "M_intervals - (integer) Number of intervals that the domain [0,100] will be divided.\n",
    "N_budget - (integer) Budget for the number of allowed of elemental operations.\n",
    "tol - (double) Tolerance for the root, it must be greater or equal to 0.\n",
    "Output:\n",
    "y - (double-array) The values of y(x_i) for all the values of x_i. The dimension of this vector is M+1, it must include the initial value. The vector should return NaN if it could not compute any of the values required.\n",
    "'''\n",
    "def newton_ode_solver(M_intervals=10,N_budget=1e4,tol=1e-8):\n",
    "    y = np.full(M_intervals+1,np.nan)\n",
    "    ...\n",
    "    return y\n",
    "```"
   ]
  },
  {
   "cell_type": "code",
   "execution_count": 11,
   "metadata": {},
   "outputs": [],
   "source": [
    "# This definitions were added now in Code mode. \n",
    "# Currently they just plot the 'sin' function but need to be modified for the homework.\n",
    "# We added this so we can use the funcion 'plot_solutions_of_ODE'.\n",
    "def bisect_ode_solver(M_intervals=10,N_budget=1e4,tol=1e-8):\n",
    "    y = np.full(M_intervals+1,np.nan)\n",
    "    x = np.linspace(0,10,M_intervals+1)\n",
    "    y = np.sin(x)\n",
    "    return y\n",
    "def fpi_ode_solver(M_intervals=10,N_budget=1e4,tol=1e-8):\n",
    "    y = np.full(M_intervals+1,np.nan)\n",
    "    x = np.linspace(0,10,M_intervals+1)\n",
    "    y = np.sin(x)\n",
    "    return y\n",
    "def newton_ode_solver(M_intervals=10,N_budget=1e4,tol=1e-8):\n",
    "    y = np.full(M_intervals+1,np.nan)\n",
    "    x = np.linspace(0,10,M_intervals+1)\n",
    "    y = np.sin(x)\n",
    "    return y"
   ]
  },
  {
   "cell_type": "markdown",
   "metadata": {},
   "source": [
    "## 3.- Visualización y Conclusiones\n",
    "Utilice el siguiente código para visualizar sus resultados. Se incluye esta función para que pueda visualizar sus resultados."
   ]
  },
  {
   "cell_type": "code",
   "execution_count": 3,
   "metadata": {},
   "outputs": [
    {
     "data": {
      "application/vnd.jupyter.widget-view+json": {
       "model_id": "bfb947d43b0649fe92664f7941719ffe",
       "version_major": 2,
       "version_minor": 0
      },
      "text/html": [
       "<p>Failed to display Jupyter Widget of type <code>interactive</code>.</p>\n",
       "<p>\n",
       "  If you're reading this message in the Jupyter Notebook or JupyterLab Notebook, it may mean\n",
       "  that the widgets JavaScript is still loading. If this message persists, it\n",
       "  likely means that the widgets JavaScript library is either not installed or\n",
       "  not enabled. See the <a href=\"https://ipywidgets.readthedocs.io/en/stable/user_install.html\">Jupyter\n",
       "  Widgets Documentation</a> for setup instructions.\n",
       "</p>\n",
       "<p>\n",
       "  If you're reading this message in another frontend (for example, a static\n",
       "  rendering on GitHub or <a href=\"https://nbviewer.jupyter.org/\">NBViewer</a>),\n",
       "  it may mean that your frontend doesn't currently support widgets.\n",
       "</p>\n"
      ],
      "text/plain": [
       "interactive(children=(IntSlider(value=100, description='M_intervals', max=100000, min=100, step=100), IntSlider(value=10000, description='N_budget', max=1000000, min=100, step=100), IntSlider(value=-8, description='log_tol', max=-1, min=-14), FloatSlider(value=0.1, description='shift', max=1.0, min=-1.0, step=0.01), Output()), _dom_classes=('widget-interact',))"
      ]
     },
     "metadata": {},
     "output_type": "display_data"
    },
    {
     "data": {
      "text/plain": [
       "<function __main__.plot_solutions_of_ODE>"
      ]
     },
     "execution_count": 3,
     "metadata": {},
     "output_type": "execute_result"
    }
   ],
   "source": [
    "def plot_solutions_of_ODE(M_intervals=10,N_budget=1e4,log_tol=-8,shift=0.1):\n",
    "    tol = 10**log_tol\n",
    "    x        = np.linspace(0,10,M_intervals+1)\n",
    "    y_bisec  = bisect_ode_solver(M_intervals,N_budget,tol)\n",
    "    y_fpi    = fpi_ode_solver(M_intervals,N_budget,tol)\n",
    "    y_newton = newton_ode_solver(M_intervals,N_budget,tol)\n",
    "    plt.figure(figsize=(8,8))\n",
    "    plt.plot(x,y_bisec+shift,'b-',label='Bisección: y+'+str(shift))\n",
    "    plt.plot(x,y_fpi,'m-',label='FPI: y')\n",
    "    plt.plot(x,y_newton-shift,'g-',label='Newton: y-'+str(shift),linewidth=3,alpha=0.5)\n",
    "    plt.legend(loc='best')\n",
    "    plt.title('Plot of solutions with shift for visualization purposes')\n",
    "    plt.grid(True)\n",
    "    plt.show()\n",
    "    \n",
    "interact(plot_solutions_of_ODE,M_intervals=(100,100000,100),N_budget=(100,1000000,100),log_tol=(-14,-1,1),shift=(-1,1,0.01))"
   ]
  },
  {
   "cell_type": "markdown",
   "metadata": {},
   "source": [
    "- **Conclusiones**. Escriba las conclusiones de lo aprendido en su tarea, estas deben ser sustentadas con los desarrollos y experimentos numéricos realizados.  <span style=\"color:blue; font-size: 2em\"> **15 puntos**</span> "
   ]
  },
  {
   "cell_type": "markdown",
   "metadata": {},
   "source": [
    "_Answer_"
   ]
  },
  {
   "cell_type": "markdown",
   "metadata": {},
   "source": [
    "-------"
   ]
  },
  {
   "cell_type": "markdown",
   "metadata": {},
   "source": [
    "# Instrucciones:\n",
    "\n",
    "* **Importante, Asegúrese de responder TODO lo que la pregunta pide.**\n",
    "* La estructura de la tarea es la siguiente:\n",
    "     1. Título, nombre de estudiante, email y rol.\n",
    "     2. Responder cada pregunta de forma personal.\n",
    "     5. Referencias. Es muy importante incluir todas las fuentes usadas, de otra forma se considera que lo no se ha citado adecuadamente es su trabajo.\n",
    "* La tarea debe ser realizada en `Jupyter Notebook` (`Python3`) entregado.\n",
    "* Se evaluará la correcta utilización de librerias `NumPy`, `SciPy`, `Matplotlib` y `ipywidgets`, entre otras, así como la **correcta implementación de algoritmos vectorizados**.\n",
    "* **MUY IMPORTANTE** El archivo de entrega debe denominarse TareaN-rol.tar.gz y _notebook_ debe tener como nombre TareaN-rol.ipynb, donde $N$ es el número de la tarea y debe contener un directorio con todos los archivos necesarios para ejecutar el notebook, junto con un archivo README indicando explícitamente las librerías o módulos utilizados, nombre y rol del estudiante. El no cumplimiento de esta regla significa calificación $0$.\n",
    "* El descuento por día de atraso será de $30$ puntos, con un máximo de 1 día de atraso. No se recibirán entregas después de este día.\n",
    "* Debe citar toda fuente de código externo. \n",
    "* El trabajo es personal, no se permite compartir código ni utilizar código de otros, aunque sí se sugiere discutir aspectos generales con sus compañeros.\n",
    "* En caso de sospecha de no cumplimiento de estas instrucciones, se solicitará al involucrado o la involucrada a aclarar la situación. Dependiendo de la justificación se decidirá su calificación, la cual podrá o no ser penalizada.\n",
    "* El no seguir estas instrucciones, implica descuentos en su nota obtenida."
   ]
  },
  {
   "cell_type": "markdown",
   "metadata": {},
   "source": [
    "# Anexo: Pregunta Bonus <span style=\"color:blue\"> **30 puntos**</span> \n",
    "\n",
    "_Los Avengers_, mientras ud. desarrollaba su solución propuesta, han estado trabajando arduamente en paralelo en un nuevo método de búsqueda de raíces que les pueda ser de ayuda.\n",
    "\n",
    "En particular, han desarrollado un método basado en el Método de la Secante. \n",
    "Sin embargo, en lugar de buscar aproximaciones de la raíz mediante secantes trazadas desde 2 _initial guess_, **se proyecta una parábola a partir de 3 _puntos iniciales dados_**.\n",
    "\n",
    "Para ello, se define una parábola de una forma conveniente, a partir de tres puntos $(x_0, f(x_0)), (x_1, f(x_1)),  (x_2, f(x_2))$:\n",
    "\\begin{align*}\n",
    "f(x) = a(x - x_2)^2 + b(x - x_2) + c.\n",
    "\\end{align*}\n",
    "\n",
    "Luego, se obtienen los coeficientes $a, b, c$ a partir de los 3 puntos indicados. \n",
    "Una vez definida la parábola, se elige el punto $x_3$ como **la intersección de la parábola con el eje x más cercana a $x_2$**.\n",
    "A partir de $x_3$, su correspondiente $f(x_3)$ y **junto a dos puntos previos más cercanos a él** se construye una nueva parábola y se continua de la misma forma. A continuación se presenta un _sketch_ gráfico referente al método ($r$ corresponse a la aproximación de la raíz $root$), obtenida desde la parábola construida con $x_0$, $x_1$ y $x_2$.\n",
    "\n",
    "<img src=\"parabola.png\" style=\"width:50%\">\n",
    "\n",
    "Se sugiere además _poner especial cuidado a la pérdida de significancia en este algoritmo._"
   ]
  },
  {
   "cell_type": "markdown",
   "metadata": {},
   "source": [
    "## B.1. Implementación\n",
    "\n",
    "Resuelva el problema de graficar la EDO anteriormente descrita, pero esta vez utilize este algoritmo para resolver la secuencia de problemas de busqueda de raíces. Implemente el algoritmo bajo las mismas condiciones de presupuesto de operaciones elementales. Comparelo con los algoritmos anteriores y explique claramente sus ventajas y desventajas. Se sugiere modificar la función ```python plot_solutions_of_ODE ``` para incluir ```python avengers_ode_solver``` si decide libremente aceptar realizar el bonus."
   ]
  },
  {
   "cell_type": "markdown",
   "metadata": {},
   "source": [
    "```python\n",
    "'''\n",
    "Input: \n",
    "M_intervals - (integer) Number of intervals that the domain [0,100] will be divided.\n",
    "N_budget - (integer) Budget for the number of allowed of elemental operations.\n",
    "tol - (double) Tolerance for the root, it must be greater or equal to 0.\n",
    "Output:\n",
    "y - (double-array) The values of y(x_i) for all the values of x_i. The dimension of this vector is M+1, it must include the initial value. The vector should return NaN if it could not compute any of the values required.\n",
    "'''\n",
    "def avengers_ode_solver(M_intervals=10,N_budget=1e4,tol=1e-8):\n",
    "    y = np.full(M_intervals+1,np.nan)\n",
    "    ...\n",
    "    return y\n",
    "```"
   ]
  },
  {
   "cell_type": "code",
   "execution_count": null,
   "metadata": {},
   "outputs": [],
   "source": []
  }
 ],
 "metadata": {
  "kernelspec": {
   "display_name": "Python 3",
   "language": "python",
   "name": "python3"
  },
  "language_info": {
   "codemirror_mode": {
    "name": "ipython",
    "version": 3
   },
   "file_extension": ".py",
   "mimetype": "text/x-python",
   "name": "python",
   "nbconvert_exporter": "python",
   "pygments_lexer": "ipython3",
   "version": "3.7.1"
  }
 },
 "nbformat": 4,
 "nbformat_minor": 2
}
