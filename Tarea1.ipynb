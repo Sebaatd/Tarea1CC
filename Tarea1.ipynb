{
 "cells": [
  {
   "cell_type": "markdown",
   "metadata": {},
   "source": [
    "<img src=\"escudo_utfsm.gif\" style=\"float:right;height:100px\">\n",
    "<img src=\"IsotipoDIisocolor.png\" style=\"float:left;height:100px\">\n",
    "<center>\n",
    "    <h1> ILI285 - Computación Científica I / INF285 - Computación Científica</h1>\n",
    "    <h1> Tarea 1: Remember your roots </h1>\n",
    "    <h3> [S]cientific [C]omputing [T]eam 2019</h3>\n",
    "</center>\n",
    "<p>\n",
    "<center>Marzo 2019 - v1.25 </center>\n",
    "</p>\n",
    "\n",
    "---"
   ]
  },
  {
   "cell_type": "markdown",
   "metadata": {},
   "source": [
    "## Contexto\n",
    "\n",
    "La presente tarea tiene como objetivo el uso de algoritmos de búsquedas de ceros en 1D, como adaptarlos a un problema particular y que implicancias tiene el uso de cada uno, tanto desde el punto de vista de la aproximación de la solución como de la computación necesaria. Al final se presenta la interpretación gráfica de las soluciones obtenidas."
   ]
  },
  {
   "cell_type": "markdown",
   "metadata": {},
   "source": [
    "_Nota: En esta tarea no se puede utilizar ```sympy``` en los algoritmos numéricos, pero sí se puede utilizar para desarrollos intermedios, por ejemplo en la sección \"1.- Construcción\"._"
   ]
  },
  {
   "cell_type": "code",
   "execution_count": 5,
   "metadata": {},
   "outputs": [],
   "source": [
    "import numpy as np\n",
    "import matplotlib.pyplot as plt\n",
    "%matplotlib inline\n",
    "from ipywidgets import interact\n",
    "import ipywidgets as widgets"
   ]
  },
  {
   "cell_type": "markdown",
   "metadata": {},
   "source": [
    "-------"
   ]
  },
  {
   "cell_type": "markdown",
   "metadata": {},
   "source": [
    "## Problema\n",
    "\n",
    "El universo de Marvel fue atacado duramente por Thanos en _Avenger Infinity War_. \n",
    "Sin embargo, los Avengers en conjunto con la Capitana Marvel tienen un plan para salvar al universo.\n",
    "Lamentablemente, se han encontrado con la siguiente ecuación diferencial ordinaria que no pueden resolver:\n",
    "\n",
    "\\begin{align*}\n",
    "\\frac{dy}{dx}(x)&=y(x)\\cos{(x+y(x))},\\\\\n",
    "y(0)&=1,\n",
    "\\end{align*}\n",
    "\n",
    "donde $x \\in [0,100]$ y además sabemos que $-1000\\leq y(x) \\leq 1000$ para $x \\in [0,100]$.\n",
    "Afortunadamente, usted se ha dado cuenta que puede usar algoritmos numéricos para encontrar una aproximación numérica de $y(x)$ sobre una grilla de puntos $x_i=100\\frac{i}{M}$, con $i\\in\\{0,1,\\dots,M\\}$.\n",
    "Una estrategia para resolver este tipo de problemas es discretizar el dominio de la función, y en lugar de encontrar la función $y(x)$ algebraicamente, se encuentra una aproximación a $y(x_i)$ para cada $x_i$.\n",
    "\n",
    "Note que ya conocemos el valor exacto de $y(x_0)=y(0)=1$ por la condición inicial, por lo que necesitamos obtener el siguiente valor $y(x_1)$ y así sucesivamente hasta $y(x_M)$.\n",
    "Para hacer esto, primero hagamos un poco de desarrollo algebraico. \n",
    "Al integrar la ecuación diferencial entre $x_0$ y $x_1$ obtenemos:\n",
    "\n",
    "\\begin{equation*}\n",
    "\\int_{x_0}^{x_1} \\dfrac{dy}{dx}(x) \\, \\mathrm{d}x  =  \\int_{x_0}^{x_1} y(x)\\,\\cos{(x+y(x))} \\, \\mathrm{d}x.\n",
    "\\end{equation*}\n",
    "\n",
    "Por el **teorema fundamental del cálculo**, esto es:\n",
    "\n",
    "\\begin{equation*}\n",
    " y(x_1)- y(x_0)   =  \\int_{x_0}^{x_1} \\! y(x)\\cos{(x+y(x))} \\, \\mathrm{d}x.\n",
    "\\end{equation*}\n",
    "\n",
    "Hasta este punto no se ha realizado ninguna aproximación.\n",
    "Nótese que $y(x_1)$ es lo que buscamos y $y(x_0)$ es conocido, asi que vamos bien encaminados. \n",
    "Sin embargo necesitamos $y(x)$ para realizar la integral del lado derecho de la ecuación.\n",
    "Entonces, ahora es un buen momento para realizar una aproximación numérica.\n",
    "En este caso, utilizaremos el método de integración de trapecio.\n",
    "Este consiste en que una integral definida $\\int_a^b\\,f(x)\\,\\mathrm{d}x$ es obtenida por medio de la siguiente expresión $\\dfrac{f(a)+f(b)}{2}(b-a)+\\text{Error}$, i.e. $\\int_a^b\\,f(x)\\,\\mathrm{d}x\\approx\\dfrac{f(a)+f(b)}{2}(b-a)$.\n",
    "En la siguiente figura se muestra un sketch de la aproximación:"
   ]
  },
  {
   "cell_type": "markdown",
   "metadata": {},
   "source": [
    "<img src=\"Trapezoidal-Rule.png\" style=\"width:50%\">"
   ]
  },
  {
   "cell_type": "markdown",
   "metadata": {},
   "source": [
    "donde la función a integrar es la curva en rojo, el valor de la integral, en este caso, corresponde al área bajo la curva en gris, la aproximación de la integral $\\int_a^b\\,f(x)\\,\\mathrm{d}x$ por medio de un trapecio es la área achurada en celeste y el Error es la diferencia entre en valor de la integral y la aproximación por trapecio. \n",
    "Por ahora solo es necesario entender que el Error _debería_ disminuir a medida que el largo del intervalo $[a,b]$ sea más pequeño. Entonces, en nuestro caso esto se reduce a:\n",
    "\n",
    "\\begin{equation*}\n",
    " y(x_1)- y(x_0)   \\approx  \\dfrac{x_1-x_0}{2}\\left(y(x_1)\\cos{(x_1+y(x_1))}+y(x_0)\\cos{(x_0+y(x_0))}\\right).\n",
    "\\end{equation*}\n",
    "\n",
    "Lo que se transforma en el siguiente método numérico:\n",
    "\n",
    "\\begin{equation*}\n",
    " y_1- y_0   =  \\dfrac{x_1-x_0}{2}\\left(y_1\\cos{(x_1+y_1)}+y_0\\cos{(x_0+y_0)}\\right),\n",
    "\\end{equation*}\n",
    "\n",
    "donde lo conocido es $x_0$, $x_1$ y $y_0$ y lo que se busca es $y_1$. En el caso general, obtenemos\n",
    "la siguiente secuencia de ecuaciones que se deben resolver:\n",
    "\n",
    "\\begin{equation*}\n",
    " y_{i+1}- y_i   =  \\dfrac{x_{i+1}-x_i}{2}\\left(y_{i+1}\\cos{(x_{i+1}+y_{i+1})}+y_i\\cos{(x_i+y_i)}\\right),\n",
    "\\end{equation*}\n",
    "\n",
    "para $i\\in\\{0,1,\\dots,M\\}$, $x_i=100\\frac{i}{M}$ y $y_0=1$. _Con esta solución, los Avengers y la capitana Marvel tendrán todas la herramientas para derrotar a Thanos!_\n",
    "\n",
    "**Note: From now on $M$ will be denoted as $M\\_$intervals in the code.**"
   ]
  },
  {
   "cell_type": "markdown",
   "metadata": {},
   "source": [
    "----"
   ]
  },
  {
   "cell_type": "markdown",
   "metadata": {},
   "source": [
    "## Preguntas\n",
    "---"
   ]
  },
  {
   "cell_type": "markdown",
   "metadata": {},
   "source": [
    "# 1.- Construcción\n",
    "Explique cómo usar los tres métodos de búsqueda de raíces vistos en clases (bisección, iteración de punto fijo y método de Newton) para resolver la secuencia de problemas mencionados anteriormente.\n",
    "Debe explicitar completamente todo lo que necesita para luego poder implementar cada método.\n",
    "Sea claro y explícito en su estrategia. Se indicará en cada método lo mínimo que debe explicar.\n",
    "Ver [04_roots_of_1D_equations.ipynb](https://github.com/tclaudioe/Scientific-Computing/blob/master/SC1/04_roots_of_1D_equations.ipynb) para referencia.\n",
    "\n",
    "- Método de la Bisección. Debe escribir explícitamente cual es la función 'f' a utilizar y los intervalos $[a,b]$ a utilizar. <span style=\"color:blue; font-size: 2em\"> **10 puntos**</span> "
   ]
  },
  {
   "cell_type": "markdown",
   "metadata": {},
   "source": [
    "Para utilizar el Método de la Bisección es necesario tener una función y un intervalo asociado a este. En este caso, se tiene una secuencia de ecuaciones a resolver \n",
    "\n",
    "\n",
    "Para utilizar el Método de la Bisección es necesario igualar la secuencia de ecuaciones a cero y definir una nueva función 'f'. Por tanto, tomando la forma general de la secuencia de problemas y ordenando los términos:\n",
    "\n",
    "\\begin{equation*}\n",
    " \\dfrac{x_1-x_0}{2}\\left(y_1\\cos{(x_1+y_1)}+y_0\\cos{(x_0+y_0)}\\right) -y_1 + y_0   =  0\n",
    "\\end{equation*}\n",
    "\n",
    "Luego, reemplazando $x_0$, $x_1$ e $y_0$ ya conocidos se tiene que:\n",
    "\n",
    "\\begin{equation*}\n",
    " \\dfrac{100*i}{M}\\left(y_{i+1}\\cos{(\\frac{100 * (i+1)}{M} + y_{i+1})}+\\cos{(100 + \\frac{i}{M} + y_{i+1})}\\right) - y_{i+1} + y_{i}   =  0\n",
    "\\end{equation*}\n",
    "\n",
    "Por tanto, la nueva función 'f' es:\n",
    "\n",
    "\\begin{equation*}\n",
    " f(y_{i}) = \\dfrac{100*i}{M}\\left(y_{i+1}\\cos{(\\frac{100 * (i+1)}{M} + y_{i+1})}+\\cos{(100 + \\frac{i}{M} + y_{i+1})}\\right) - y_{i+1} + y_{i}\n",
    "\\end{equation*}\n",
    "\n",
    "Sin embargo, para poder aplicar el Método de la Bisección se debe definir un intervalo. Como el dominio de la nueva función está determinado por la cantidad de subintervalos $M$, hay que probar intervalos que cumplan con la siguiente condición:\n",
    "\n",
    "\\begin{equation*}\n",
    " f(a) * f(b) < 0\n",
    "\\end{equation*}\n",
    "\n",
    "El problema es que no es posible utilizar el mismo intervalo para cada caso de la ecuación. Para ello, se define una estrategia para encontrar el intervalo adecuado para cada caso. Se probarán intervalos de tipo $[-2^i, 2^i]$ para caso. El algoritmo se dentendrá al momento en que un intervalo funcione, y por ende, retornará el y aproximado."
   ]
  },
  {
   "cell_type": "code",
   "execution_count": 20,
   "metadata": {},
   "outputs": [],
   "source": [
    "f = lambda x: (100/(2*100)) * (x*np.cos(100/100 + x) + np.cos(1)) -x + 1"
   ]
  },
  {
   "cell_type": "code",
   "execution_count": 21,
   "metadata": {},
   "outputs": [],
   "source": [
    "def bisect(f, a, b, tol=1e-8):\n",
    "    fa = f(a)\n",
    "    fb = f(b)\n",
    "    i = 0\n",
    "    # Just checking if the sign is not negative => not root  necessarily \n",
    "    if np.sign(f(a)*f(b)) >= 0:\n",
    "        print('f(a)f(b)<0 not satisfied!')\n",
    "        return None\n",
    "  \n",
    "    #Printing the evolution of the computation of the root\n",
    "    print(' i |     a     |     c     |     b     |     fa    |     fc     |     fb     |   b-a')\n",
    "    print('----------------------------------------------------------------------------------------')\n",
    "    \n",
    "    while(b-a)/2 > tol:\n",
    "        c = (a+b)/2.\n",
    "        fc = f(c)\n",
    "        print('%2d | %.7f | %.7f | %.7f | %.7f | %.7f | %.7f | %.7f' %\n",
    "              (i+1, a, c, b, fa, fc, fb, b-a))\n",
    "        # Did we find the root?\n",
    "        if fc == 0:\n",
    "            print('f(c)==0')\n",
    "            break\n",
    "        elif np.sign(fa*fc) < 0:\n",
    "            b = c\n",
    "            fb = fc\n",
    "        else:\n",
    "            a = c\n",
    "            fa = fc\n",
    "        i += 1\n",
    "        \n",
    "    xc = (a+b)/2.\n",
    "    return xc"
   ]
  },
  {
   "cell_type": "code",
   "execution_count": 22,
   "metadata": {},
   "outputs": [
    {
     "name": "stdout",
     "output_type": "stream",
     "text": [
      " i |     a     |     c     |     b     |     fa    |     fc     |     fb     |   b-a\n",
      "----------------------------------------------------------------------------------------\n",
      " 1 | -10.0000000 | -2.5000000 | 5.0000000 | 15.8258025 | 3.6817297 | -1.3294231 | 15.0000000\n",
      " 2 | -2.5000000 | 1.2500000 | 5.0000000 | 3.6817297 | -0.3724574 | -1.3294231 | 7.5000000\n",
      " 3 | -2.5000000 | -0.6250000 | 1.2500000 | 3.6817297 | 1.6043675 | -0.3724574 | 3.7500000\n",
      " 4 | -0.6250000 | 0.3125000 | 1.2500000 | 1.6043675 | 0.9975627 | -0.3724574 | 1.8750000\n",
      " 5 | 0.3125000 | 0.7812500 | 1.2500000 | 0.9975627 | 0.4072982 | -0.3724574 | 0.9375000\n",
      " 6 | 0.7812500 | 1.0156250 | 1.2500000 | 0.4072982 | 0.0360128 | -0.3724574 | 0.4687500\n",
      " 7 | 1.0156250 | 1.1328125 | 1.2500000 | 0.0360128 | -0.1644955 | -0.3724574 | 0.2343750\n",
      " 8 | 1.0156250 | 1.0742188 | 1.1328125 | 0.0360128 | -0.0631832 | -0.1644955 | 0.1171875\n",
      " 9 | 1.0156250 | 1.0449219 | 1.0742188 | 0.0360128 | -0.0133058 | -0.0631832 | 0.0585938\n",
      "10 | 1.0156250 | 1.0302734 | 1.0449219 | 0.0360128 | 0.0114251 | -0.0133058 | 0.0292969\n",
      "11 | 1.0302734 | 1.0375977 | 1.0449219 | 0.0114251 | -0.0009227 | -0.0133058 | 0.0146484\n",
      "12 | 1.0302734 | 1.0339355 | 1.0375977 | 0.0114251 | 0.0052557 | -0.0009227 | 0.0073242\n",
      "13 | 1.0339355 | 1.0357666 | 1.0375977 | 0.0052557 | 0.0021676 | -0.0009227 | 0.0036621\n",
      "14 | 1.0357666 | 1.0366821 | 1.0375977 | 0.0021676 | 0.0006228 | -0.0009227 | 0.0018311\n",
      "15 | 1.0366821 | 1.0371399 | 1.0375977 | 0.0006228 | -0.0001499 | -0.0009227 | 0.0009155\n",
      "16 | 1.0366821 | 1.0369110 | 1.0371399 | 0.0006228 | 0.0002365 | -0.0001499 | 0.0004578\n",
      "17 | 1.0369110 | 1.0370255 | 1.0371399 | 0.0002365 | 0.0000433 | -0.0001499 | 0.0002289\n",
      "18 | 1.0370255 | 1.0370827 | 1.0371399 | 0.0000433 | -0.0000533 | -0.0001499 | 0.0001144\n",
      "19 | 1.0370255 | 1.0370541 | 1.0370827 | 0.0000433 | -0.0000050 | -0.0000533 | 0.0000572\n",
      "20 | 1.0370255 | 1.0370398 | 1.0370541 | 0.0000433 | 0.0000192 | -0.0000050 | 0.0000286\n",
      "21 | 1.0370398 | 1.0370469 | 1.0370541 | 0.0000192 | 0.0000071 | -0.0000050 | 0.0000143\n",
      "22 | 1.0370469 | 1.0370505 | 1.0370541 | 0.0000071 | 0.0000010 | -0.0000050 | 0.0000072\n",
      "23 | 1.0370505 | 1.0370523 | 1.0370541 | 0.0000010 | -0.0000020 | -0.0000050 | 0.0000036\n",
      "24 | 1.0370505 | 1.0370514 | 1.0370523 | 0.0000010 | -0.0000005 | -0.0000020 | 0.0000018\n",
      "25 | 1.0370505 | 1.0370509 | 1.0370514 | 0.0000010 | 0.0000003 | -0.0000005 | 0.0000009\n",
      "26 | 1.0370509 | 1.0370512 | 1.0370514 | 0.0000003 | -0.0000001 | -0.0000005 | 0.0000004\n",
      "27 | 1.0370509 | 1.0370510 | 1.0370512 | 0.0000003 | 0.0000001 | -0.0000001 | 0.0000002\n",
      "28 | 1.0370510 | 1.0370511 | 1.0370512 | 0.0000001 | 0.0000000 | -0.0000001 | 0.0000001\n",
      "29 | 1.0370511 | 1.0370511 | 1.0370512 | 0.0000000 | -0.0000000 | -0.0000001 | 0.0000001\n",
      "30 | 1.0370511 | 1.0370511 | 1.0370511 | 0.0000000 | -0.0000000 | -0.0000000 | 0.0000000\n"
     ]
    },
    {
     "data": {
      "text/plain": [
       "1.0370511072687805"
      ]
     },
     "execution_count": 22,
     "metadata": {},
     "output_type": "execute_result"
    }
   ],
   "source": [
    "bisect(f, -10, 5)"
   ]
  },
  {
   "cell_type": "markdown",
   "metadata": {},
   "source": [
    "- Iteración de Punto Fijo (Restricción: Aquí no se puede usar el método de Newton). Explique cual será su _initial guess_ y la función 'g' a utilizar. Se espera que sea convergente. <span style=\"color:blue; font-size: 2em\"> **10 puntos**</span> \n",
    "\n",
    "Utilizando la ecuación general para la secuencia de ecuaciones, se define 'g' como:\n",
    "\n",
    "\\begin{equation*}\n",
    " g(i) = \\dfrac{100*i}{M}\\left(y_{i+1}\\cos{(\\frac{100 * (i+1)}{M} + y_{i+1})}+\\cos{(100 + \\frac{i}{M} + y_{i+1})}\\right) - y_{i+1} + y_{i}\n",
    "\\end{equation*}\n",
    "\n",
    "Luego, el _initial guess_ será:\n",
    "\n",
    "\\begin{equation*}\n",
    " g(1) = \\dfrac{100}{M}\\left(y_{2}\\cos{(\\frac{200}{M} + y_{2})}+\\cos{(100 + \\frac{2}{M} + y_{2})}\\right) - y_{2} + y_{1}\n",
    "\\end{equation*}\n",
    "\n",
    "\\begin{equation*}\n",
    "  g(Y_{b}) = \\dfrac{b-a}{2}\\left(Y_{b}\\cos{(b+Y_{b})}+y(a)\\cos{(a+y(a))}\\right) + y(a),\n",
    "\\end{equation*}"
   ]
  },
  {
   "cell_type": "markdown",
   "metadata": {},
   "source": [
    "\\begin{equation*}\n",
    "  y(b) = \\dfrac{b-a}{2}\\left(y(b)\\cos{(b+y(b))}+y(a)\\cos{(a+y(a))}\\right) + y(a),\n",
    "\\end{equation*}\n",
    "\n",
    "\\begin{equation*}\n",
    "  \\dfrac{b-a}{2}\\left(y(b)\\cos{(b+y(b))}+y(a)\\cos{(a+y(a))}\\right)-y(b)+ y(a) = 0,\n",
    "\\end{equation*}\n",
    "\n",
    "\\begin{equation*}\n",
    "  g(Y_{b}) = \\dfrac{b-a}{2}\\left(Y_{b}\\cos{(b+Y_{b})}+y(a)\\cos{(a+y(a))}\\right) + y(a),\n",
    "\\end{equation*}"
   ]
  },
  {
   "cell_type": "markdown",
   "metadata": {},
   "source": [
    "- Método de Newton. Debe explicar cual es el 'f', su derivada y el _initial guess_ a usar. <span style=\"color:blue; font-size: 2em\"> **10 puntos**</span> "
   ]
  },
  {
   "cell_type": "code",
   "execution_count": 9,
   "metadata": {},
   "outputs": [],
   "source": [
    "def newton_method(f, fp, x0, rel_error=1e-8, m=1):\n",
    "    #Initialization of hybrid error and absolute\n",
    "    hybrid_error = 100\n",
    "    error_i = np.inf\n",
    "    \n",
    "    print('i |     x(i)     |     x(i+1)   |      |x(i+1)-x(i)|     |  e_i/e_{i-1} | e_i/e_{i-1}^2')\n",
    "    print('----------------------------------------------------------------------------------------')\n",
    "    \n",
    "    #Iteration counter\n",
    "    i = 1\n",
    "    while (hybrid_error > rel_error and hybrid_error < 1e12 and i < 1e4):\n",
    "        #Newton's iteration\n",
    "        x1 = x0-m*f(x0)/fp(x0)\n",
    "        \n",
    "        #Checking if root was found\n",
    "        if f(x1) == 0.0:\n",
    "            hybrid_error = 0.0\n",
    "            break\n",
    "        \n",
    "        #Computation of hybrid error\n",
    "        hybrid_error = abs(x1-x0)/np.max([abs(x1),1e-12])\n",
    "        \n",
    "        #Computation of absolute error\n",
    "        error_iminus1 = error_i\n",
    "        error_i = abs(x1-x0)\n",
    "        \n",
    "        #Increasing counter\n",
    "        i += 1\n",
    "        \n",
    "        #Showing some info\n",
    "        print(\"%d | %.10f | %.10f | %.20f | %.10f | %.10f\" % \n",
    "              (i, x0, x1, error_i, error_i/error_iminus1, error_i/(error_iminus1**2)))\n",
    "        #Updating solution\n",
    "        x0 = x1\n",
    "    \n",
    "    #Checking if solution was obtained\n",
    "    if hybrid_error < rel_error: \n",
    "        return x1\n",
    "    elif i>=1e4:\n",
    "        print('Newton''s Method diverged. Too many iterations!!')\n",
    "        return None\n",
    "    else:\n",
    "        print('Newton''s Method diverged!')\n",
    "        return None"
   ]
  },
  {
   "cell_type": "code",
   "execution_count": 14,
   "metadata": {},
   "outputs": [
    {
     "name": "stdout",
     "output_type": "stream",
     "text": [
      "i |     x(i)     |     x(i+1)   |      |x(i+1)-x(i)|     |  e_i/e_{i-1} | e_i/e_{i-1}^2\n",
      "----------------------------------------------------------------------------------------\n",
      "2 | 0.0000000000 | 1.3738481818 | 1.37384818179861123433 | 0.0000000000 | 0.0000000000\n",
      "3 | 1.3738481818 | 1.1724836814 | 0.20136450039049669236 | 0.1465696887 | 0.1066855062\n",
      "4 | 1.1724836814 | 1.0776175198 | 0.09486616157744509614 | 0.4711166139 | 2.3396210005\n",
      "5 | 1.0776175198 | 1.0353642117 | 0.04225330817651617998 | 0.4453991547 | 4.6950266280\n",
      "6 | 1.0353642117 | 1.0175402436 | 0.01782396803898755877 | 0.4218360362 | 9.9835031726\n",
      "7 | 1.0175402436 | 1.0102507938 | 0.00728944983312751482 | 0.4089689690 | 22.9448890475\n",
      "8 | 1.0102507938 | 1.0073123874 | 0.00293840637178743869 | 0.4031039981 | 55.2996463852\n",
      "9 | 1.0073123874 | 1.0061351710 | 0.00117721638166634612 | 0.4006308974 | 136.3429174570\n",
      "10 | 1.0061351710 | 1.0056647297 | 0.00047044129295703563 | 0.3996217690 | 339.4633095838\n",
      "11 | 1.0056647297 | 1.0054769223 | 0.00018780746251056968 | 0.3992155139 | 848.5979437613\n",
      "12 | 1.0054769223 | 1.0054019772 | 0.00007494510332550774 | 0.3990528508 | 2124.7976279231\n",
      "13 | 1.0054019772 | 1.0053720750 | 0.00002990218662390909 | 0.3989878631 | 5323.7349122572\n",
      "14 | 1.0053720750 | 1.0053601451 | 0.00001192983383346835 | 0.3989619215 | 13342.2323440555\n",
      "15 | 1.0053601451 | 1.0053553857 | 0.00000475942593647360 | 0.3989515699 | 33441.5026618273\n",
      "16 | 1.0053553857 | 1.0053534870 | 0.00000189876079215168 | 0.3989474398 | 83822.5964852222\n",
      "17 | 1.0053534870 | 1.0053527295 | 0.00000075750262817920 | 0.3989457921 | 210108.5053580557\n",
      "18 | 1.0053527295 | 1.0053524273 | 0.00000030220198810049 | 0.3989451348 | 526658.4166790142\n",
      "19 | 1.0053524273 | 1.0053523067 | 0.00000012056193354759 | 0.3989448723 | 1320126.5643368824\n",
      "20 | 1.0053523067 | 1.0053522586 | 0.00000004809755260737 | 0.3989447680 | 3309044.2086422704\n",
      "21 | 1.0053522586 | 1.0053522394 | 0.00000001918826497693 | 0.3989447266 | 8294491.1957413321\n",
      "22 | 1.0053522394 | 1.0053522318 | 0.00000000765505681066 | 0.3989447102 | 20791077.8118807450\n",
      "23 | 1.0053522318 | 1.0053522287 | 0.00000000305394420863 | 0.3989446825 | 52115182.4655020535\n",
      "24 | 1.0053522287 | 1.0053522275 | 0.00000000121835497247 | 0.3989447381 | 130632621.5673346967\n",
      "25 | 1.0053522275 | 1.0053522270 | 0.00000000048605630631 | 0.3989447388 | 327445406.1947290897\n",
      "26 | 1.0053522270 | 1.0053522268 | 0.00000000019390955508 | 0.3989446337 | 820778639.2554935217\n",
      "27 | 1.0053522268 | 1.0053522267 | 0.00000000007735900809 | 0.3989437656 | 2057370331.3950030804\n",
      "28 | 1.0053522267 | 1.0053522267 | 0.00000000003086197964 | 0.3989448728 | 5157057757.3058509827\n",
      "29 | 1.0053522267 | 1.0053522267 | 0.00000000001231237334 | 0.3989495647 | 12926894819.7610607147\n",
      "30 | 1.0053522267 | 1.0053522267 | 0.00000000000491184871 | 0.3989359784 | 32401224950.0765495300\n",
      "31 | 1.0053522267 | 1.0053522267 | 0.00000000000195954364 | 0.3989421816 | 81220372522.2358398438\n",
      "32 | 1.0053522267 | 1.0053522267 | 0.00000000000078181905 | 0.3989801700 | 203608718958.9389648438\n",
      "33 | 1.0053522267 | 1.0053522267 | 0.00000000000031197267 | 0.3990343652 | 510392223399.6150512695\n",
      "34 | 1.0053522267 | 1.0053522267 | 0.00000000000012434498 | 0.3985765125 | 1277600735212.3088378906\n",
      "35 | 1.0053522267 | 1.0053522267 | 0.00000000000004973799 | 0.4000000000 | 3216856876693.2114257812\n",
      "36 | 1.0053522267 | 1.0053522267 | 0.00000000000001976197 | 0.3973214286 | 7988288560984.8164062500\n",
      "37 | 1.0053522267 | 1.0053522267 | 0.00000000000000777156 | 0.3932584270 | 19899758484783.1523437500\n"
     ]
    },
    {
     "data": {
      "text/plain": [
       "1.0053522266742159"
      ]
     },
     "execution_count": 14,
     "metadata": {},
     "output_type": "execute_result"
    }
   ],
   "source": [
    "#f = lambda x: np.sin(x)\n",
    "#fp = lambda x: np.cos(x) # derivative of f\n",
    "f = lambda x: (100/(2*10000)) * (x*np.cos(100/10000 + x) + np.cos(1)) -x + 1\n",
    "fp = lambda x: (1/2) * (-x*np.sin(1+x)+np.cos(1+x)-2)\n",
    "newton_method(f, fp, 0,rel_error=1e-14)"
   ]
  },
  {
   "cell_type": "markdown",
   "metadata": {},
   "source": [
    "\n",
    "## 2.- Implementación\n",
    "Aquí usted debe implementar cada uno de los algoritmos propuestos en la pregunta anterior de la forma que los explicó. \n",
    "Usted tendrá que considerar un presupuesto $N\\_budget$ de *operaciones elementales*, es decir, cada vez que en su implementación realice una operación elemental la debe descontar de su presupuesto y el algoritmo debe retornar el vector $\\mathbf{y}$ de soluciones encontradas hasta donde pudo obtener una solución.\n",
    "Si el presupuesto es menor a lo que necesita para poder obtener las $M\\_$intervals raices, el vector debe retornar NaN en las componentes que no pudo obtener. Condicionales no se consideran operaciones elementales pero si hubieran operaciones elementales dentro de un condicional debén incluirse y descontarse del presupuesto cada vez que se realicen.\n",
    "El costo de cada operación viene dado por la siguiente tabla: <br> \n",
    "\n",
    "|Operaciones elementales|Costo|\n",
    "|:----------:|:-------------:|\n",
    "| +,-,*,/ |  1 |\n",
    "| Funciones Elementales (trig, etc) |    50   |\n",
    "\n",
    "- Método de la Bisección. <span style=\"color:blue; font-size: 2em\"> **15 puntos**</span> \n",
    "\n",
    "```python\n",
    "'''\n",
    "Input: \n",
    "M_intervals - (integer) Number of intervals that the domain [0,100] will be divided.\n",
    "N_budget - (integer) Budget for the number of allowed of elemental operations.\n",
    "tol - (double) Tolerance for the root, it must be greater or equal to 0.\n",
    "Output:\n",
    "y - (double-array) The values of y(x_i) for all the values of x_i. The dimension of this vector is M+1, it must include the initial value. The vector should return NaN if it could not compute any of the values required.\n",
    "'''\n",
    "def bisect_ode_solver(M_intervals=10,N_budget=1e4,tol=1e-8):\n",
    "    y = np.full(M_intervals+1,np.nan)\n",
    "    ...\n",
    "    return y\n",
    "```\n",
    "\n",
    "- Iteración de Punto Fijo (Restricción: Aquí no se puede usar el método de Newton). <span style=\"color:blue; font-size: 2em\"> **15 puntos**</span> \n",
    "\n",
    "```python\n",
    "'''\n",
    "Input: \n",
    "M_intervals - (integer) Number of intervals that the domain [0,100] will be divided.\n",
    "N_budget - (integer) Budget for the number of allowed of elemental operations.\n",
    "tol - (double) Tolerance for the root, it must be greater or equal to 0.\n",
    "Output:\n",
    "y - (double-array) The values of y(x_i) for all the values of x_i. The dimension of this vector is M+1, it must include the initial value. The vector should return NaN if it could not compute any of the values required.\n",
    "'''\n",
    "def fpi_ode_solver(M_intervals=10,N_budget=1e4,tol=1e-8):\n",
    "    y = np.full(M_intervals+1,np.nan)\n",
    "    ...\n",
    "    return y\n",
    "```\n",
    "\n",
    "- Método de Newton. <span style=\"color:blue; font-size: 2em\"> **15 puntos**</span> \n",
    "\n",
    "```python\n",
    "'''\n",
    "Input: \n",
    "M_intervals - (integer) Number of intervals that the domain [0,100] will be divided.\n",
    "N_budget - (integer) Budget for the number of allowed of elemental operations.\n",
    "tol - (double) Tolerance for the root, it must be greater or equal to 0.\n",
    "Output:\n",
    "y - (double-array) The values of y(x_i) for all the values of x_i. The dimension of this vector is M+1, it must include the initial value. The vector should return NaN if it could not compute any of the values required.\n",
    "'''\n",
    "def newton_ode_solver(M_intervals=10,N_budget=1e4,tol=1e-8):\n",
    "    y = np.full(M_intervals+1,np.nan)\n",
    "    ...\n",
    "    return y\n",
    "```"
   ]
  },
  {
   "cell_type": "code",
   "execution_count": 11,
   "metadata": {},
   "outputs": [],
   "source": [
    "# This definitions were added now in Code mode. \n",
    "# Currently they just plot the 'sin' function but need to be modified for the homework.\n",
    "# We added this so we can use the funcion 'plot_solutions_of_ODE'.\n",
    "def bisect_ode_solver(M_intervals=10,N_budget=1e4,tol=1e-8):\n",
    "    y = np.full(M_intervals+1,np.nan)\n",
    "    x = np.linspace(0,10,M_intervals+1)\n",
    "    y = np.sin(x)\n",
    "    return y\n",
    "def fpi_ode_solver(M_intervals=10,N_budget=1e4,tol=1e-8):\n",
    "    y = np.full(M_intervals+1,np.nan)\n",
    "    x = np.linspace(0,10,M_intervals+1)\n",
    "    y = np.sin(x)\n",
    "    return y\n",
    "def newton_ode_solver(M_intervals=10,N_budget=1e4,tol=1e-8):\n",
    "    y = np.full(M_intervals+1,np.nan)\n",
    "    x = np.linspace(0,10,M_intervals+1)\n",
    "    y = np.sin(x)\n",
    "    return y"
   ]
  },
  {
   "cell_type": "markdown",
   "metadata": {},
   "source": [
    "## 3.- Visualización y Conclusiones\n",
    "Utilice el siguiente código para visualizar sus resultados. Se incluye esta función para que pueda visualizar sus resultados."
   ]
  },
  {
   "cell_type": "code",
   "execution_count": 3,
   "metadata": {},
   "outputs": [
    {
     "data": {
      "application/vnd.jupyter.widget-view+json": {
       "model_id": "bfb947d43b0649fe92664f7941719ffe",
       "version_major": 2,
       "version_minor": 0
      },
      "text/html": [
       "<p>Failed to display Jupyter Widget of type <code>interactive</code>.</p>\n",
       "<p>\n",
       "  If you're reading this message in the Jupyter Notebook or JupyterLab Notebook, it may mean\n",
       "  that the widgets JavaScript is still loading. If this message persists, it\n",
       "  likely means that the widgets JavaScript library is either not installed or\n",
       "  not enabled. See the <a href=\"https://ipywidgets.readthedocs.io/en/stable/user_install.html\">Jupyter\n",
       "  Widgets Documentation</a> for setup instructions.\n",
       "</p>\n",
       "<p>\n",
       "  If you're reading this message in another frontend (for example, a static\n",
       "  rendering on GitHub or <a href=\"https://nbviewer.jupyter.org/\">NBViewer</a>),\n",
       "  it may mean that your frontend doesn't currently support widgets.\n",
       "</p>\n"
      ],
      "text/plain": [
       "interactive(children=(IntSlider(value=100, description='M_intervals', max=100000, min=100, step=100), IntSlider(value=10000, description='N_budget', max=1000000, min=100, step=100), IntSlider(value=-8, description='log_tol', max=-1, min=-14), FloatSlider(value=0.1, description='shift', max=1.0, min=-1.0, step=0.01), Output()), _dom_classes=('widget-interact',))"
      ]
     },
     "metadata": {},
     "output_type": "display_data"
    },
    {
     "data": {
      "text/plain": [
       "<function __main__.plot_solutions_of_ODE>"
      ]
     },
     "execution_count": 3,
     "metadata": {},
     "output_type": "execute_result"
    }
   ],
   "source": [
    "def plot_solutions_of_ODE(M_intervals=10,N_budget=1e4,log_tol=-8,shift=0.1):\n",
    "    tol = 10**log_tol\n",
    "    x        = np.linspace(0,10,M_intervals+1)\n",
    "    y_bisec  = bisect_ode_solver(M_intervals,N_budget,tol)\n",
    "    y_fpi    = fpi_ode_solver(M_intervals,N_budget,tol)\n",
    "    y_newton = newton_ode_solver(M_intervals,N_budget,tol)\n",
    "    plt.figure(figsize=(8,8))\n",
    "    plt.plot(x,y_bisec+shift,'b-',label='Bisección: y+'+str(shift))\n",
    "    plt.plot(x,y_fpi,'m-',label='FPI: y')\n",
    "    plt.plot(x,y_newton-shift,'g-',label='Newton: y-'+str(shift),linewidth=3,alpha=0.5)\n",
    "    plt.legend(loc='best')\n",
    "    plt.title('Plot of solutions with shift for visualization purposes')\n",
    "    plt.grid(True)\n",
    "    plt.show()\n",
    "    \n",
    "interact(plot_solutions_of_ODE,M_intervals=(100,100000,100),N_budget=(100,1000000,100),log_tol=(-14,-1,1),shift=(-1,1,0.01))"
   ]
  },
  {
   "cell_type": "markdown",
   "metadata": {},
   "source": [
    "- **Conclusiones**. Escriba las conclusiones de lo aprendido en su tarea, estas deben ser sustentadas con los desarrollos y experimentos numéricos realizados.  <span style=\"color:blue; font-size: 2em\"> **15 puntos**</span> "
   ]
  },
  {
   "cell_type": "markdown",
   "metadata": {},
   "source": [
    "_Answer_"
   ]
  },
  {
   "cell_type": "markdown",
   "metadata": {},
   "source": [
    "-------"
   ]
  },
  {
   "cell_type": "markdown",
   "metadata": {},
   "source": [
    "# Instrucciones:\n",
    "\n",
    "* **Importante, Asegúrese de responder TODO lo que la pregunta pide.**\n",
    "* La estructura de la tarea es la siguiente:\n",
    "     1. Título, nombre de estudiante, email y rol.\n",
    "     2. Responder cada pregunta de forma personal.\n",
    "     5. Referencias. Es muy importante incluir todas las fuentes usadas, de otra forma se considera que lo no se ha citado adecuadamente es su trabajo.\n",
    "* La tarea debe ser realizada en `Jupyter Notebook` (`Python3`) entregado.\n",
    "* Se evaluará la correcta utilización de librerias `NumPy`, `SciPy`, `Matplotlib` y `ipywidgets`, entre otras, así como la **correcta implementación de algoritmos vectorizados**.\n",
    "* **MUY IMPORTANTE** El archivo de entrega debe denominarse TareaN-rol.tar.gz y _notebook_ debe tener como nombre TareaN-rol.ipynb, donde $N$ es el número de la tarea y debe contener un directorio con todos los archivos necesarios para ejecutar el notebook, junto con un archivo README indicando explícitamente las librerías o módulos utilizados, nombre y rol del estudiante. El no cumplimiento de esta regla significa calificación $0$.\n",
    "* El descuento por día de atraso será de $30$ puntos, con un máximo de 1 día de atraso. No se recibirán entregas después de este día.\n",
    "* Debe citar toda fuente de código externo. \n",
    "* El trabajo es personal, no se permite compartir código ni utilizar código de otros, aunque sí se sugiere discutir aspectos generales con sus compañeros.\n",
    "* En caso de sospecha de no cumplimiento de estas instrucciones, se solicitará al involucrado o la involucrada a aclarar la situación. Dependiendo de la justificación se decidirá su calificación, la cual podrá o no ser penalizada.\n",
    "* El no seguir estas instrucciones, implica descuentos en su nota obtenida."
   ]
  },
  {
   "cell_type": "markdown",
   "metadata": {},
   "source": [
    "# Anexo: Pregunta Bonus <span style=\"color:blue\"> **30 puntos**</span> \n",
    "\n",
    "_Los Avengers_, mientras ud. desarrollaba su solución propuesta, han estado trabajando arduamente en paralelo en un nuevo método de búsqueda de raíces que les pueda ser de ayuda.\n",
    "\n",
    "En particular, han desarrollado un método basado en el Método de la Secante. \n",
    "Sin embargo, en lugar de buscar aproximaciones de la raíz mediante secantes trazadas desde 2 _initial guess_, **se proyecta una parábola a partir de 3 _puntos iniciales dados_**.\n",
    "\n",
    "Para ello, se define una parábola de una forma conveniente, a partir de tres puntos $(x_0, f(x_0)), (x_1, f(x_1)),  (x_2, f(x_2))$:\n",
    "\\begin{align*}\n",
    "f(x) = a(x - x_2)^2 + b(x - x_2) + c.\n",
    "\\end{align*}\n",
    "\n",
    "Luego, se obtienen los coeficientes $a, b, c$ a partir de los 3 puntos indicados. \n",
    "Una vez definida la parábola, se elige el punto $x_3$ como **la intersección de la parábola con el eje x más cercana a $x_2$**.\n",
    "A partir de $x_3$, su correspondiente $f(x_3)$ y **junto a dos puntos previos más cercanos a él** se construye una nueva parábola y se continua de la misma forma. A continuación se presenta un _sketch_ gráfico referente al método ($r$ corresponse a la aproximación de la raíz $root$), obtenida desde la parábola construida con $x_0$, $x_1$ y $x_2$.\n",
    "\n",
    "<img src=\"parabola.png\" style=\"width:50%\">\n",
    "\n",
    "Se sugiere además _poner especial cuidado a la pérdida de significancia en este algoritmo._"
   ]
  },
  {
   "cell_type": "markdown",
   "metadata": {},
   "source": [
    "## B.1. Implementación\n",
    "\n",
    "Resuelva el problema de graficar la EDO anteriormente descrita, pero esta vez utilize este algoritmo para resolver la secuencia de problemas de busqueda de raíces. Implemente el algoritmo bajo las mismas condiciones de presupuesto de operaciones elementales. Comparelo con los algoritmos anteriores y explique claramente sus ventajas y desventajas. Se sugiere modificar la función ```python plot_solutions_of_ODE ``` para incluir ```python avengers_ode_solver``` si decide libremente aceptar realizar el bonus."
   ]
  },
  {
   "cell_type": "markdown",
   "metadata": {},
   "source": [
    "```python\n",
    "'''\n",
    "Input: \n",
    "M_intervals - (integer) Number of intervals that the domain [0,100] will be divided.\n",
    "N_budget - (integer) Budget for the number of allowed of elemental operations.\n",
    "tol - (double) Tolerance for the root, it must be greater or equal to 0.\n",
    "Output:\n",
    "y - (double-array) The values of y(x_i) for all the values of x_i. The dimension of this vector is M+1, it must include the initial value. The vector should return NaN if it could not compute any of the values required.\n",
    "'''\n",
    "def avengers_ode_solver(M_intervals=10,N_budget=1e4,tol=1e-8):\n",
    "    y = np.full(M_intervals+1,np.nan)\n",
    "    ...\n",
    "    return y\n",
    "```"
   ]
  },
  {
   "cell_type": "code",
   "execution_count": null,
   "metadata": {},
   "outputs": [],
   "source": []
  }
 ],
 "metadata": {
  "kernelspec": {
   "display_name": "Python 3",
   "language": "python",
   "name": "python3"
  },
  "language_info": {
   "codemirror_mode": {
    "name": "ipython",
    "version": 3
   },
   "file_extension": ".py",
   "mimetype": "text/x-python",
   "name": "python",
   "nbconvert_exporter": "python",
   "pygments_lexer": "ipython3",
   "version": "3.7.1"
  }
 },
 "nbformat": 4,
 "nbformat_minor": 2
}
